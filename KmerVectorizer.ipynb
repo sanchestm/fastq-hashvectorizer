{
 "cells": [
  {
   "cell_type": "code",
   "execution_count": null,
   "metadata": {},
   "outputs": [],
   "source": [
    "import hashvec as hv\n",
    "from glob import glob\n",
    "from umap import UMAP\n",
    "import hdbscan\n"
   ]
  },
  {
   "cell_type": "code",
   "execution_count": null,
   "metadata": {},
   "outputs": [],
   "source": [
    "from dask.distributed import Client\n",
    "client = Client()#processes = False\n",
    "client"
   ]
  },
  {
   "cell_type": "code",
   "execution_count": null,
   "metadata": {},
   "outputs": [],
   "source": [
    "import IPython\n",
    "def init_pyx(dask_worker):\n",
    "    import sys\n",
    "    sys.path.insert(0,'/home/thiagoms/Documents/sourmash_umap_phylogeny/')\n",
    "    import hashvec\n",
    "\n",
    "client.register_worker_callbacks(init_pyx) "
   ]
  },
  {
   "cell_type": "code",
   "execution_count": null,
   "metadata": {},
   "outputs": [],
   "source": [
    "corpus_filenames = sorted(glob('data2/*')) #sorted(glob('data/*genome.txt'))\n",
    "corpus_filenames = ['/home/thiagoms/Documents/sourmash_umap_phylogeny/'+ x for x in corpus_filenames][:3]"
   ]
  },
  {
   "cell_type": "code",
   "execution_count": null,
   "metadata": {},
   "outputs": [],
   "source": [
    "corpus_filenames"
   ]
  },
  {
   "cell_type": "code",
   "execution_count": null,
   "metadata": {},
   "outputs": [],
   "source": [
    "%time X =  hv.Genomes2Sparse(corpus_filenames, tfidf= False, n_features=int(1e7),method='cython', MAF = 0 , kmer_length = 15)"
   ]
  },
  {
   "cell_type": "code",
   "execution_count": null,
   "metadata": {},
   "outputs": [],
   "source": [
    "%time mafXhash = hv.MAF_Filter_4hashed(X = X, AF =  [.05,.95])"
   ]
  },
  {
   "cell_type": "code",
   "execution_count": null,
   "metadata": {},
   "outputs": [],
   "source": [
    "%time hv.plot_clusters(UMAP().fit_transform(mafXhash), hdbscan.HDBSCAN, (), {'min_cluster_size':15}) "
   ]
  },
  {
   "cell_type": "code",
   "execution_count": null,
   "metadata": {},
   "outputs": [],
   "source": [
    "%time hv.plot_clusters(UMAP().fit_transform(X), hdbscan.HDBSCAN, (), {'min_cluster_size':15})"
   ]
  },
  {
   "cell_type": "code",
   "execution_count": null,
   "metadata": {},
   "outputs": [],
   "source": []
  },
  {
   "cell_type": "code",
   "execution_count": null,
   "metadata": {},
   "outputs": [],
   "source": [
    "#X.indices = np.array(range(len(X.indices)))"
   ]
  },
  {
   "cell_type": "code",
   "execution_count": null,
   "metadata": {},
   "outputs": [],
   "source": [
    "#X[0,0]"
   ]
  },
  {
   "cell_type": "code",
   "execution_count": null,
   "metadata": {},
   "outputs": [],
   "source": [
    "#import numpy as np"
   ]
  },
  {
   "cell_type": "code",
   "execution_count": null,
   "metadata": {},
   "outputs": [],
   "source": [
    "#range(len)"
   ]
  },
  {
   "cell_type": "code",
   "execution_count": null,
   "metadata": {},
   "outputs": [],
   "source": [
    "#unique_kmers = np.unique(hv.ngf.sklearn_ngram_yield_fast_old('AAAAAAAA'.encode(\"ASCII\", errors=\"strict\"),3))"
   ]
  },
  {
   "cell_type": "code",
   "execution_count": null,
   "metadata": {},
   "outputs": [],
   "source": [
    "#335*20000*1e-6*5000/60/60"
   ]
  },
  {
   "cell_type": "code",
   "execution_count": null,
   "metadata": {},
   "outputs": [],
   "source": [
    "%timeit gene_exp('ACGTACGATGCTAGTCGATGCTACAT', Xcsc, 15, 10)"
   ]
  },
  {
   "cell_type": "code",
   "execution_count": null,
   "metadata": {},
   "outputs": [],
   "source": [
    "import dask.dataframe as dd\n",
    "import dask.bag as db\n",
    "import dask.array as da\n",
    "import numpy as np\n",
    "import pandas as pd\n",
    "Xcsc = X.tocsc()"
   ]
  },
  {
   "cell_type": "code",
   "execution_count": null,
   "metadata": {},
   "outputs": [],
   "source": [
    "def gene_exp(gene_seq, sparseK,kmer_l ,row ='all' ):\n",
    "    #needs to convert matrix to CSC first!! Otherwise it will take forever\n",
    "    if gene_seq[-1] != '\\n': SEQ = gene_seq + '\\n'\n",
    "    SEQ = list(hv.ngf.sklearn_ngram_yield_fast_old(SEQ.encode(\"ASCII\", errors=\"strict\"),kmer_l))  #np.unique()\n",
    "    if row == 'all':\n",
    "        return sum(sparseK[:, i].sum() for i in map(hv.crhv.longRevHashPY,SEQ ))\n",
    "    else:\n",
    "        return sum(sparseK[row, i] for i in map(hv.crhv.longRevHashPY,SEQ ))"
   ]
  },
  {
   "cell_type": "code",
   "execution_count": null,
   "metadata": {},
   "outputs": [],
   "source": [
    "A = 'ACTGATCGACTGCATGACTGCATGACTGCA'"
   ]
  },
  {
   "cell_type": "code",
   "execution_count": null,
   "metadata": {},
   "outputs": [],
   "source": [
    "B = list(hv.ngf.sklearn_ngram_yield_fast_old(A.encode(\"ASCII\", errors=\"strict\"),4))"
   ]
  },
  {
   "cell_type": "code",
   "execution_count": null,
   "metadata": {},
   "outputs": [],
   "source": [
    "sum(Xcsc[:, i].sum() for i in map(hv.crhv.longRevHashPY,B ))"
   ]
  },
  {
   "cell_type": "code",
   "execution_count": null,
   "metadata": {},
   "outputs": [],
   "source": [
    "Xcsc[:, list(map(hv.crhv.longRevHashPY,B ))].sum()"
   ]
  },
  {
   "cell_type": "code",
   "execution_count": null,
   "metadata": {},
   "outputs": [],
   "source": [
    "Xcsc = X.tocsc()"
   ]
  },
  {
   "cell_type": "code",
   "execution_count": null,
   "metadata": {},
   "outputs": [],
   "source": [
    "Xcsc"
   ]
  },
  {
   "cell_type": "code",
   "execution_count": null,
   "metadata": {},
   "outputs": [],
   "source": []
  }
 ],
 "metadata": {
  "kernelspec": {
   "display_name": "Python 3",
   "language": "python",
   "name": "python3"
  },
  "language_info": {
   "codemirror_mode": {
    "name": "ipython",
    "version": 3
   },
   "file_extension": ".py",
   "mimetype": "text/x-python",
   "name": "python",
   "nbconvert_exporter": "python",
   "pygments_lexer": "ipython3",
   "version": "3.7.6"
  }
 },
 "nbformat": 4,
 "nbformat_minor": 4
}
