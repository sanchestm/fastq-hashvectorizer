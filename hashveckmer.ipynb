{
 "cells": [
  {
   "cell_type": "code",
   "execution_count": null,
   "metadata": {},
   "outputs": [],
   "source": [
    "#import pyximport;pyximport.install()\n",
    "#import functions2.pyx as hv"
   ]
  },
  {
   "cell_type": "code",
   "execution_count": 1,
   "metadata": {},
   "outputs": [],
   "source": [
    "from functions import *\n",
    "import re\n",
    "import networkx as nx\n",
    "from dask.distributed import Client\n",
    "from nltk.util import ngrams\n",
    "from dask import delayed\n",
    "from dask import bag as db\n",
    "from dask import compute\n",
    "from nltk.util import ngrams\n",
    "from sklearn.feature_extraction.text import HashingVectorizer , TfidfVectorizer, CountVectorizer, TfidfTransformer\n",
    "from sklearn.linear_model import SGDClassifier\n",
    "from sklearn.pipeline import Pipeline\n",
    "import dask_ml.feature_extraction.text as dask_text\n",
    "import dask\n",
    "from itertools import chain\n",
    "from dask import bag as db\n",
    "from dask import dataframe as dd\n",
    "from itertools import chain\n",
    "import pandas as pd\n",
    "import dask.array as da\n",
    "import itertools\n",
    "from dask.distributed import get_client\n",
    "from umap import UMAP\n",
    "import hdbscan\n",
    "import time\n",
    "from scipy.sparse import csr_matrix\n",
    "import seaborn as sns\n",
    "import matplotlib.pyplot as plt\n",
    "from glob import glob\n",
    "from nltk.util import ngrams\n",
    "\n"
   ]
  },
  {
   "cell_type": "markdown",
   "metadata": {},
   "source": [
    "# setting global kmer length"
   ]
  },
  {
   "cell_type": "code",
   "execution_count": 2,
   "metadata": {},
   "outputs": [],
   "source": [
    "Kmer_length_func = 20"
   ]
  },
  {
   "cell_type": "markdown",
   "metadata": {},
   "source": [
    "# Cython functions"
   ]
  },
  {
   "cell_type": "code",
   "execution_count": 3,
   "metadata": {},
   "outputs": [],
   "source": [
    "%load_ext cython"
   ]
  },
  {
   "cell_type": "code",
   "execution_count": 4,
   "metadata": {},
   "outputs": [],
   "source": [
    "%%cython -n remoteCython1\n",
    "\n",
    "tab =  str.maketrans(\"ACTG\", \"TGAC\")\n",
    "tabnum = str.maketrans(\"ACTG\", \"1243\")\n",
    "tabnumcomp = str.maketrans(\"ACGT\", \"4321\")\n",
    "\n",
    "cdef rev_comp(seq):\n",
    "    return seq.translate(tab)[::-1]\n",
    "    \n",
    "\n",
    "cdef char_transform(char char):\n",
    "    if char == b'A': return 'T'\n",
    "    if char == b'C': return 'G'\n",
    "    if char == b'G': return 'C'\n",
    "    if char == b'T': return 'A'\n",
    "    return 'N'\n",
    "\n",
    "cdef ord_kmer(str kmer, int val):\n",
    "    cdef str kmer2 = rev_comp(kmer)\n",
    "    cdef int i = 0\n",
    "    while i < val:\n",
    "        if kmer[i]< kmer2[i]:\n",
    "            return kmer\n",
    "        elif kmer[i]> kmer2[i]:\n",
    "            return kmer2\n",
    "        i +=1\n",
    "    return kmer\n",
    "\n",
    "cdef ord_kmer_v2(str kmer, int val):\n",
    "    cdef str to_ret = ''\n",
    "    cdef int i = 0\n",
    "    cdef str inv = ''\n",
    "    while i < val:\n",
    "        inv = char_transform(kmer[val - i-1])\n",
    "        if kmer[i]< inv:\n",
    "            return kmer\n",
    "        elif kmer[i] > inv:\n",
    "            return rev_comp(kmer)\n",
    "        i +=1\n",
    "    return kmer\n",
    "\n",
    "cdef ord_kmer_v3(str kmer, int val):\n",
    "    cdef str to_ret = ''\n",
    "    cdef int i = 0\n",
    "    cdef str inv = ''\n",
    "    while i < val:\n",
    "        inv = char_transform(kmer[val - i-1])\n",
    "        if kmer[i]< inv:\n",
    "            return int(kmer.translate(tabnum),5)\n",
    "        elif kmer[i] > inv:\n",
    "            return int(kmer[::-1].translate(tabnumcomp),5)\n",
    "        i +=1\n",
    "    return int(kmer.translate(tabnum),5)\n",
    "\n",
    "def sklearn_ngram(text, n):\n",
    "    cdef int text_len = len(text)\n",
    "    cdef list ngrams = []\n",
    "    ngrams_append = ngrams.append\n",
    "    for i in range(text_len - n + 1):\n",
    "        ngrams_append(ord_kmer_v2(text[i: i + n], n))\n",
    "    return ngrams\n",
    "\n",
    "def sklearn_ngram_yield(text, n):\n",
    "    cdef int text_len = len(text)\n",
    "    for i in range(text_len - n + 1):\n",
    "        yield ord_kmer_v2(text[i: i + n], n)\n",
    "        \n",
    "def sklearn_ngram_yield_native(text, n):\n",
    "    cdef int text_len = len(text)\n",
    "    for i in range(text_len - n):\n",
    "        yield ord_kmer_v2(text[i: i + n], n)\n",
    "        \n"
   ]
  },
  {
   "cell_type": "code",
   "execution_count": 5,
   "metadata": {
    "jupyter": {
     "source_hidden": true
    }
   },
   "outputs": [],
   "source": [
    "%%cython -n remoteCython2\n",
    "\n",
    "from nltk.util import ngrams\n",
    "\n",
    "cdef ng(str read, int n):\n",
    "    return ngrams(read, n)\n",
    "\n",
    "tab =  str.maketrans(\"ACTG\", \"TGAC\")\n",
    "cdef rev_comp(seq):\n",
    "    return seq.translate(tab)[::-1]\n",
    "\n",
    "cdef char_transform(char char):\n",
    "    if char == b'A': return 'T'\n",
    "    if char == b'C': return 'G'\n",
    "    if char == b'G': return 'C'\n",
    "    if char == b'T': return 'A'\n",
    "    return 'N'\n",
    "\n",
    "cdef char_transform_py(str char):\n",
    "    if char == 'A': return 'T'\n",
    "    if char == 'C': return 'G'\n",
    "    if char == 'G': return 'C'\n",
    "    if char == 'T': return 'A'\n",
    "    return 'N'\n",
    "\n",
    "\n",
    "cdef char_transform(char char):\n",
    "    if char == b'A': return 'T'\n",
    "    if char == b'C': return 'G'\n",
    "    if char == b'G': return 'C'\n",
    "    if char == b'T': return 'A'\n",
    "    return 'N'\n",
    "\n",
    "cdef ord_kmer(str kmer, int val):\n",
    "    cdef str kmer2 = rev_comp(kmer)\n",
    "    cdef int i = 0\n",
    "    while i < val:\n",
    "        if kmer[i]< kmer2[i]:\n",
    "            return kmer\n",
    "        elif kmer[i]> kmer2[i]:\n",
    "            return kmer2\n",
    "        i +=1\n",
    "    return kmer\n",
    "\n",
    "cdef ord_kmer_v2(str kmer, int val):\n",
    "    cdef str to_ret = ''\n",
    "    cdef int i = 0\n",
    "    cdef str inv = ''\n",
    "    while i < val:\n",
    "        inv = char_transform(kmer[val - i-1])\n",
    "        if kmer[i]< inv:\n",
    "            return kmer\n",
    "        elif kmer[i] > inv:\n",
    "            return rev_comp(kmer)\n",
    "        i +=1\n",
    "    return kmer\n",
    "\n",
    "cdef ord_kmer_v3(str kmer, int val):\n",
    "    cdef str to_ret = ''\n",
    "    cdef int i = 0\n",
    "    while i < val:\n",
    "        inv = char_transform(kmer[val - i-1]) \n",
    "        if kmer[i]< inv:\n",
    "            return kmer\n",
    "        elif kmer[i] > inv:\n",
    "            while i < val:\n",
    "                to_ret = str(char_transform(kmer[val - i-1])) + to_ret\n",
    "                i += 1\n",
    "            return to_ret\n",
    "        to_ret = str(i) + to_ret\n",
    "        i +=1\n",
    "    return kmer\n",
    "\n",
    "tab =  str.maketrans(\"ACTG\", \"TGAC\")\n",
    "cdef rev_comp(seq):\n",
    "    return seq.translate(tab)[::-1]\n",
    "\n",
    "cdef char_transform(char char):\n",
    "    if char == b'A': return 'T'\n",
    "    if char == b'C': return 'G'\n",
    "    if char == b'G': return 'C'\n",
    "    if char == b'T': return 'A'\n",
    "    return 'N'\n",
    "\n",
    "cdef ord_kmer(str kmer, int val):\n",
    "    cdef str kmer2 = rev_comp(kmer)\n",
    "    cdef int i = 0\n",
    "    while i < val:\n",
    "        if kmer[i]< kmer2[i]:\n",
    "            return kmer\n",
    "        elif kmer[i]> kmer2[i]:\n",
    "            return kmer2\n",
    "        i +=1\n",
    "    return kmer\n",
    "\n",
    "cdef ord_kmer_v2(str kmer, int val):\n",
    "    cdef str to_ret = ''\n",
    "    cdef int i = 0\n",
    "    cdef str inv = ''\n",
    "    while i < val:\n",
    "        inv = char_transform(kmer[val - i-1])\n",
    "        if kmer[i]< inv:\n",
    "            return kmer\n",
    "        elif kmer[i] > inv:\n",
    "            return rev_comp(kmer)\n",
    "        i +=1\n",
    "    return kmer\n",
    "\n",
    "cdef ord_kmer_v3(str kmer, int val):\n",
    "    cdef str to_ret = ''\n",
    "    cdef int i = 0\n",
    "    while i < val:\n",
    "        inv = char_transform(kmer[val - i-1]) \n",
    "        if kmer[i]< inv:\n",
    "            return kmer\n",
    "        elif kmer[i] > inv:\n",
    "            while i < val:\n",
    "                to_ret = str(char_transform(kmer[val - i-1])) + to_ret\n",
    "                i += 1\n",
    "            return to_ret\n",
    "        to_ret = str(i) + to_ret\n",
    "        i +=1\n",
    "    return kmer\n",
    "\n",
    "def sklearn_ngram(text, n):\n",
    "    cdef int text_len = len(text)\n",
    "    cdef list ngrams = []\n",
    "    ngrams_append = ngrams.append\n",
    "    for i in range(text_len - n + 1):\n",
    "        ngrams_append(ord_kmer_v2(text[i: i + n], n))\n",
    "    return ngrams\n",
    "\n",
    "def sklearn_ngram_yield(text, n):\n",
    "    cdef int text_len = len(text)\n",
    "    for i in range(text_len - n + 1):\n",
    "        yield ord_kmer_v2(text[i: i + n], n)\n",
    "        \n",
    "def sklearn_ngram_yield_native(text, n):\n",
    "    cdef int text_len = len(text)\n",
    "    #cdef list ngrams = []\n",
    "    for i in range(text_len - n):\n",
    "        yield ord_kmer_v2(text[i: i + n], n)\n",
    "\n",
    "\n",
    "cdef ord_kmer_tup(tuple kmer, int val):\n",
    "    cdef str to_ret = ''\n",
    "    cdef int i = 0\n",
    "    while i < val:\n",
    "        inv = char_transform_py(kmer[val - i-1]) \n",
    "        if kmer[i]< inv:\n",
    "            while i < val:\n",
    "                to_ret += kmer[i] \n",
    "                i += 1\n",
    "            return to_ret\n",
    "        elif kmer[i] > inv:\n",
    "            while i < val:\n",
    "                to_ret = to_ret + char_transform_py(kmer[val - i-1]) \n",
    "                i += 1\n",
    "            return to_ret\n",
    "        to_ret = kmer[i] + to_ret\n",
    "        i +=1\n",
    "    return kmer\n",
    "        \n",
    "def ord_kmer_tup_py(tuple kmer, int val):\n",
    "    cdef str to_ret = ''\n",
    "    cdef int i = 0\n",
    "    while i < val:\n",
    "        inv = char_transform_py(kmer[val - i-1]) \n",
    "        if kmer[i]< inv:\n",
    "            while i < val:\n",
    "                to_ret += kmer[i] \n",
    "                i += 1\n",
    "            return to_ret\n",
    "        elif kmer[i] > inv:\n",
    "            while i < val:\n",
    "                to_ret = to_ret + char_transform_py(kmer[val - i-1]) \n",
    "                i += 1\n",
    "            return to_ret\n",
    "        to_ret = kmer[i] + to_ret\n",
    "        i +=1\n",
    "    return kmer\n",
    "    \n",
    "def nltk_ngram_yield(text, n):\n",
    "    for i in ng(text, n):\n",
    "        yield ord_kmer_tup(i, n)\n",
    "        \n",
    "def tokenize_array( str text, int klen = 20):\n",
    "    cdef str window  =  ''\n",
    "    cdef list returnable = []\n",
    "    cdef int counter = 0\n",
    "    cdef int check_if_read = 1\n",
    "    for letter in text:\n",
    "        if  (letter !=  'A') & (letter != 'C') & (letter != 'G') & (letter != 'T'): \n",
    "            if letter == '\\n': \n",
    "                check_if_read = check_if_read%4 + 1\n",
    "            window = ''\n",
    "            counter = 0\n",
    "        elif check_if_read == 2:\n",
    "            window = window + letter\n",
    "            counter += 1\n",
    "            if counter == klen:\n",
    "                returnable =  returnable + [window] #\n",
    "                window = window[1:]\n",
    "                counter -= 1\n",
    "    return returnable\n",
    "\n",
    "tab =  str.maketrans(\"ACTG\", \"TGAC\")\n",
    "cdef rev_comp(seq):\n",
    "    return seq.translate(tab)[::-1]\n",
    "\n",
    "\n",
    "def tokenize_read( str text, int klen = 30):\n",
    "    cdef str window  =  ''\n",
    "    cdef list returnable = []\n",
    "    cdef int counter =0\n",
    "    for letter in text:\n",
    "        if  (letter !=  'A') & (letter != 'C') & (letter != 'G') & (letter != 'T'): \n",
    "            window = ''\n",
    "        else:\n",
    "            window = window+ letter\n",
    "            counter = counter + 1\n",
    "            if counter == klen:\n",
    "                returnable +=  [ord_kmer(window, klen)] #\n",
    "                window = window[1:]\n",
    "                counter = counter - 1\n",
    "    return returnable\n",
    "\n",
    "def tokenize_read_NOORD( str text, int klen = 20):\n",
    "    cdef str window  =  ''\n",
    "    cdef list returnable = []\n",
    "    cdef int counter =0\n",
    "    for letter in text:\n",
    "        if  (letter !=  'A') & (letter != 'C') & (letter != 'G') & (letter != 'T'): \n",
    "            window = ''\n",
    "        else:\n",
    "            window = window+ letter\n",
    "            counter = counter + 1\n",
    "            if counter == klen:\n",
    "                returnable +=  [window] #\n",
    "                window = window[1:]\n",
    "                counter = counter - 1\n",
    "    return returnable\n",
    "\n",
    "\n",
    "def ListOfKmersFromRead2( char *text, int klen = 30):\n",
    "    #cdef char* read = bytes(text)\n",
    "    cdef str window = ''\n",
    "    size = len(text)\n",
    "    cdef int i =0\n",
    "    #string window  = string( b'')   #unsigned char[:]\n",
    "    cdef list returnable = []\n",
    "    cdef int counter =0\n",
    "    while i < size:\n",
    "        if  (text[i] !=  b'A') & (text[i] != b'C') & (text[i] != b'G') & (text[i] != b'T'): \n",
    "            window = '' #string(b'')\n",
    "        else:\n",
    "            window +=  text[i]\n",
    "            counter = counter + 1\n",
    "            if counter == klen:\n",
    "                returnable +=  [ord_kmer(window, klen)] #\n",
    "                window = window[1:]\n",
    "                counter -= 1\n",
    "        i+= 1\n",
    "    return returnable\n",
    "\n",
    "\n"
   ]
  },
  {
   "cell_type": "code",
   "execution_count": 6,
   "metadata": {},
   "outputs": [],
   "source": [
    "def ngram_native( filename,  klen = 20):\n",
    "    forward  =  ''\n",
    "    counter = 0\n",
    "    sort_int = 0\n",
    "    with open(filename, 'r') as f:\n",
    "        while 1:\n",
    "            if not f.readline(): break\n",
    "            while 1:\n",
    "                c = f.read(1) \n",
    "                if c == '\\n' : break\n",
    "                forward += c\n",
    "                counter += 1\n",
    "                if counter == klen:\n",
    "                    yield ord_kmer_v2(forward,klen)\n",
    "                    forward = forward[1:]\n",
    "                    counter -= 1\n",
    "            f.readline()\n",
    "            f.readline()\n"
   ]
  },
  {
   "cell_type": "markdown",
   "metadata": {},
   "source": [
    "# Hash vectorizer functions"
   ]
  },
  {
   "cell_type": "code",
   "execution_count": 29,
   "metadata": {},
   "outputs": [],
   "source": [
    "def yielder_(X):\n",
    "    for x in X:\n",
    "        yield x\n",
    "        \n",
    "def lister_(X):\n",
    "    ngrams = []\n",
    "    ngrams_append = ngrams.append\n",
    "    for i in X:\n",
    "        ngrams_append(i)\n",
    "    return ngrams\n",
    "    \n",
    "    \n",
    "\n",
    "def ngram_native_skl( filename, klen = Kmer_length_func):\n",
    "    with open(filename, 'r') as f:\n",
    "        while 1:\n",
    "            if not f.readline(): break\n",
    "            for i in sklearn_ngram_yield_native(f.readline(), klen): yield i\n",
    "            f.readline()\n",
    "            f.readline()   \n",
    "            \n",
    "\n",
    "def ngram_native_skl_List( filename, klen = Kmer_length_func):\n",
    "    ngrams = []\n",
    "    ngrams_append = ngrams.append\n",
    "    with open(filename, 'r') as f:\n",
    "        while 1:\n",
    "            if not f.readline(): break\n",
    "            for i in sklearn_ngram_yield_native(f.readline(), klen): \n",
    "                ngrams.append(i)\n",
    "            f.readline()\n",
    "            f.readline()   \n",
    "            \n",
    "def ngram_nltk( filename, klen = Kmer_length_func):\n",
    "    with open(filename, 'r') as f:\n",
    "        while 1:\n",
    "            if not f.readline(): break\n",
    "            for i in ngrams(f.readline(), klen): \n",
    "                yield ord_kmer_tup_py(i,klen)\n",
    "            f.readline()\n",
    "            f.readline()  \n",
    "            \n",
    "def ngram_native_skl_list(filename, klen = Kmer_length_func):\n",
    "    return lister_(ngram_native_skl(filename, klen = Kmer_length_func))\n",
    "            \n",
    "            \n",
    "def Daskfilename2kmers(filename, blocksize= '1MiB', reversible = False):\n",
    "    if not reversible: return db.read_text(filename, blocksize= blocksize).map(tokenize_read_NOORD).flatten().compute()\n",
    "    return db.read_text(filename, blocksize= blocksize).map(tokenize_read).flatten().compute() #, blocksize='.5MiB'\n",
    "\n",
    "def filename2kmers_pandas(filename, Klen = Kmer_length_func):\n",
    "    return chain.from_iterable(pd.read_csv(filename, header = None, engine = 'c', dtype = str, names = ['read'])[1::4].read.apply(sklearn_ngram, args=(Kmer_length_func,)))\n",
    "\n",
    "def filename2kmers_dd(filename, blocksize= '1MiB', Klen = Kmer_length_func):\n",
    "    return chain.from_iterable(dd.read_csv(filename, header = None, engine = 'c', dtype = str, names = ['read'], blocksize= blocksize).read.apply(sklearn_ngram, args=(Kmer_length_func,),meta=('read', 'object')).compute())\n",
    "\n",
    "\n",
    "def filename2kmers_dd_skl(filename):\n",
    "    df = dd.read_csv(filename, header = None, engine = 'c', dtype = str, names = ['read'], blocksize= '1MiB').read.apply(sklearn_ngram, args=(Kmer_length_func,),meta=('read', 'object')).compute()[1::4]\n",
    "    return list(chain.from_iterable(df))\n",
    "\n",
    "def filename2kmers_dd_skl_yield_yield(filename):\n",
    "    return chain.from_iterable(dd.read_csv(filename, header = None, engine = 'c', dtype = str, names = ['read'], blocksize= '1MiB').read.apply(sklearn_ngram_yield, args=(Kmer_length_func,),meta=('read', 'object')).compute()[1::4])\n",
    "\n",
    "\n",
    "def filename2kmers_explode(filename, blocksize= '1MiB'):\n",
    "    return list(dd.read_csv(filename, blocksize= blocksize, header = None, engine = 'c', dtype = str, names = ['read']).read.apply(tokenize_read,meta=('read', 'object')).explode().compute())\n",
    "\n",
    "    \n",
    "def Genomes2Sparse(files = [], n_features=int(1e6), tfidf = True, hasher = True, MAF = 0, feature_names = False, method = 'dask', wait = False, kmer_length = 20):\n",
    "    global Kmer_length_func\n",
    "    Kmer_length_func = kmer_length\n",
    "    if hasher:\n",
    "        if method == 'dask':\n",
    "            ret = dask_text.HashingVectorizer(n_features=n_features, analyzer = filename2kmers_dd_skl_yield_yield).fit_transform(db.from_sequence(files)).compute()\n",
    "        if method == 'native_list':\n",
    "            ret = dask_text.HashingVectorizer(n_features=n_features, analyzer = ngram_native_skl_list).fit_transform(db.from_sequence(files)).compute()\n",
    "        if method == 'dask_list':\n",
    "            ret = dask_text.HashingVectorizer(n_features=n_features, analyzer = filename2kmers_dd_skl).fit_transform(db.from_sequence(files)).compute()\n",
    "        if method == 'pandas':\n",
    "            ret = dask_text.HashingVectorizer(n_features=n_features, analyzer = filename2kmers_pandas).fit_transform(db.from_sequence(files)).compute()\n",
    "        if method == 'native':\n",
    "            if wait: ret = dask_text.HashingVectorizer(n_features=n_features, analyzer = ngram_native_skl).fit_transform(db.from_sequence(files)).compute()\n",
    "            else:\n",
    "                tokens = client.map(ngram_native_skl, files)\n",
    "                ret = dask_text.HashingVectorizer(n_features=n_features, analyzer = yielder_).fit_transform(client.gather(tokens))\n",
    "            \n",
    "        if MAF > 0:\n",
    "            minimum,maximum = sorted([MAF, 1-MAF])\n",
    "            n_doc = len(files)\n",
    "            ret = ret[:, (minimum*n_doc <ret.getnnz(0)) & (ret.getnnz(0)< (maximum)*n_doc )]\n",
    "            if ret.shape[1] == 0: return 'no Kmer with MAF of interest'\n",
    "        if tfidf: ret =  TfidfTransformer().fit_transform(ret)\n",
    "        return ret\n",
    "    \n",
    "    if not hasher:\n",
    "        minimum,maximum = sorted([MAF, 1-MAF])\n",
    "        if dask: vec = TfidfVectorizer(analyzer=filename2kmers_dd_skl_yield_yield, max_df = maximum, min_df = minimum, max_features = n_features )\n",
    "        if not dask:  vec = TfidfVectorizer(analyzer=filename2kmers_pandas, max_df = maximum, min_df = minimum, max_features = n_features )\n",
    "        X = vec.fit_transform(files)\n",
    "        if feature_names: return (X, np.array(vec.get_feature_names()))\n",
    "        return X\n",
    "    \n"
   ]
  },
  {
   "cell_type": "code",
   "execution_count": 28,
   "metadata": {},
   "outputs": [
    {
     "name": "stdout",
     "output_type": "stream",
     "text": [
      "CPU times: user 836 ms, sys: 76.1 ms, total: 913 ms\n",
      "Wall time: 2.25 s\n"
     ]
    }
   ],
   "source": [
    "%time A = filename2kmers_dd('data/000genome.txt')"
   ]
  },
  {
   "cell_type": "code",
   "execution_count": 25,
   "metadata": {},
   "outputs": [],
   "source": [
    "#A = filename2kmers_dd_skl_yield_yield('data/000genome.txt')"
   ]
  },
  {
   "cell_type": "code",
   "execution_count": 8,
   "metadata": {},
   "outputs": [],
   "source": [
    "#%time Xhash =  Genomes2Sparse(corpus_filenames[:10], tfidf= False, n_features=int(1e7),method = 'dask' ,hasher = True, MAF = 0, kmer_length = 20)"
   ]
  },
  {
   "cell_type": "markdown",
   "metadata": {},
   "source": [
    "# plotting function"
   ]
  },
  {
   "cell_type": "code",
   "execution_count": 9,
   "metadata": {},
   "outputs": [],
   "source": [
    "\n",
    "\n",
    "plot_kwds = {'alpha' : 0.25, 's' : 80, 'linewidths':0}\n",
    "def plot_clusters(data, algorithm, args, kwds):\n",
    "    start_time = time.time()\n",
    "    labels = algorithm(*args, **kwds).fit_predict(data)\n",
    "    end_time = time.time()\n",
    "    palette = sns.color_palette('deep', np.unique(labels).max() + 1)\n",
    "    colors = [palette[x] if x >= 0 else (0.0, 0.0, 0.0) for x in labels]\n",
    "    plt.scatter(data.T[0], data.T[1], c=colors, **plot_kwds)\n",
    "    frame = plt.gca()\n",
    "    frame.axes.get_xaxis().set_visible(False)\n",
    "    frame.axes.get_yaxis().set_visible(False)\n",
    "    plt.title('Clusters found by {}'.format(str(algorithm.__name__)), fontsize=24)"
   ]
  },
  {
   "cell_type": "markdown",
   "metadata": {},
   "source": [
    "# Getting files for test"
   ]
  },
  {
   "cell_type": "code",
   "execution_count": 10,
   "metadata": {},
   "outputs": [],
   "source": [
    "corpus_filenames = sorted(glob('data/*genome.txt'))[:]\n",
    "corpus_filenames = ['/home/thiagoms/Documents/sourmash_umap_phylogeny/'+ x for x in corpus_filenames]"
   ]
  },
  {
   "cell_type": "markdown",
   "metadata": {},
   "source": [
    "# start single dask "
   ]
  },
  {
   "cell_type": "code",
   "execution_count": 12,
   "metadata": {},
   "outputs": [
    {
     "name": "stderr",
     "output_type": "stream",
     "text": [
      "/home/thiagoms/anaconda3/lib/python3.7/site-packages/distributed/dashboard/core.py:79: UserWarning: \n",
      "Port 8787 is already in use. \n",
      "Perhaps you already have a cluster running?\n",
      "Hosting the diagnostics dashboard on a random port instead.\n",
      "  warnings.warn(\"\\n\" + msg)\n"
     ]
    }
   ],
   "source": [
    "from dask.distributed import Client\n",
    "\n",
    "client1 = Client(processes = False)"
   ]
  },
  {
   "cell_type": "code",
   "execution_count": 13,
   "metadata": {},
   "outputs": [
    {
     "data": {
      "text/html": [
       "<table style=\"border: 2px solid white;\">\n",
       "<tr>\n",
       "<td style=\"vertical-align: top; border: 0px solid white\">\n",
       "<h3 style=\"text-align: left;\">Client</h3>\n",
       "<ul style=\"text-align: left; list-style: none; margin: 0; padding: 0;\">\n",
       "  <li><b>Scheduler: </b>inproc://192.168.1.218/5102/1</li>\n",
       "  <li><b>Dashboard: </b><a href='http://192.168.1.218:44219/status' target='_blank'>http://192.168.1.218:44219/status</a>\n",
       "</ul>\n",
       "</td>\n",
       "<td style=\"vertical-align: top; border: 0px solid white\">\n",
       "<h3 style=\"text-align: left;\">Cluster</h3>\n",
       "<ul style=\"text-align: left; list-style:none; margin: 0; padding: 0;\">\n",
       "  <li><b>Workers: </b>1</li>\n",
       "  <li><b>Cores: </b>4</li>\n",
       "  <li><b>Memory: </b>16.66 GB</li>\n",
       "</ul>\n",
       "</td>\n",
       "</tr>\n",
       "</table>"
      ],
      "text/plain": [
       "<Client: 'inproc://192.168.1.218/5102/1' processes=1 threads=4, memory=16.66 GB>"
      ]
     },
     "execution_count": 13,
     "metadata": {},
     "output_type": "execute_result"
    }
   ],
   "source": [
    "client1"
   ]
  },
  {
   "cell_type": "markdown",
   "metadata": {},
   "source": [
    "# starting dask client parallel"
   ]
  },
  {
   "cell_type": "code",
   "execution_count": 12,
   "metadata": {},
   "outputs": [
    {
     "data": {
      "text/html": [
       "<table style=\"border: 2px solid white;\">\n",
       "<tr>\n",
       "<td style=\"vertical-align: top; border: 0px solid white\">\n",
       "<h3 style=\"text-align: left;\">Client</h3>\n",
       "<ul style=\"text-align: left; list-style: none; margin: 0; padding: 0;\">\n",
       "  <li><b>Scheduler: </b>tcp://127.0.0.1:43131</li>\n",
       "  <li><b>Dashboard: </b><a href='http://127.0.0.1:8787/status' target='_blank'>http://127.0.0.1:8787/status</a>\n",
       "</ul>\n",
       "</td>\n",
       "<td style=\"vertical-align: top; border: 0px solid white\">\n",
       "<h3 style=\"text-align: left;\">Cluster</h3>\n",
       "<ul style=\"text-align: left; list-style:none; margin: 0; padding: 0;\">\n",
       "  <li><b>Workers: </b>4</li>\n",
       "  <li><b>Cores: </b>4</li>\n",
       "  <li><b>Memory: </b>16.66 GB</li>\n",
       "</ul>\n",
       "</td>\n",
       "</tr>\n",
       "</table>"
      ],
      "text/plain": [
       "<Client: 'tcp://127.0.0.1:43131' processes=4 threads=4, memory=16.66 GB>"
      ]
     },
     "execution_count": 12,
     "metadata": {},
     "output_type": "execute_result"
    }
   ],
   "source": [
    "from dask.distributed import Client\n",
    "\n",
    "client = Client(\"tcp://127.0.0.1:43131\")\n",
    "client"
   ]
  },
  {
   "cell_type": "code",
   "execution_count": null,
   "metadata": {},
   "outputs": [],
   "source": []
  },
  {
   "cell_type": "code",
   "execution_count": null,
   "metadata": {},
   "outputs": [],
   "source": []
  },
  {
   "cell_type": "code",
   "execution_count": 13,
   "metadata": {},
   "outputs": [
    {
     "data": {
      "text/plain": [
       "{'tcp://127.0.0.1:33535': {'status': 'OK'},\n",
       " 'tcp://127.0.0.1:34979': {'status': 'OK'},\n",
       " 'tcp://127.0.0.1:41281': {'status': 'OK'},\n",
       " 'tcp://127.0.0.1:41287': {'status': 'OK'}}"
      ]
     },
     "execution_count": 13,
     "metadata": {},
     "output_type": "execute_result"
    }
   ],
   "source": [
    "import IPython\n",
    "def init_pyx(dask_worker):\n",
    "    import pyximport\n",
    "    pyximport.install()\n",
    "\n",
    "    import sys\n",
    "    sys.path.insert(0,IPython.paths.get_ipython_cache_dir()+ '/cython/')   # <<< replace <IPYTHONCACHEDIR> as appropriate\n",
    "\n",
    "    import remoteCython1\n",
    "    #import remoteCython2\n",
    "\n",
    "client.register_worker_callbacks(init_pyx) "
   ]
  },
  {
   "cell_type": "code",
   "execution_count": 50,
   "metadata": {},
   "outputs": [],
   "source": [
    "#client = Client()#processes=False \n",
    "#client\n"
   ]
  },
  {
   "cell_type": "markdown",
   "metadata": {},
   "source": [
    "# testing Hash vectorizer"
   ]
  },
  {
   "cell_type": "code",
   "execution_count": null,
   "metadata": {},
   "outputs": [],
   "source": [
    "%time Xhash =  Genomes2Sparse(corpus_filenames[:], tfidf= False, n_features=int(1e7),method = 'dask_list' ,hasher = True, MAF = 0, kmer_length = 20)  #native_list for multiple workers"
   ]
  },
  {
   "cell_type": "markdown",
   "metadata": {},
   "source": [
    "# plot the umaps"
   ]
  },
  {
   "cell_type": "code",
   "execution_count": 15,
   "metadata": {},
   "outputs": [
    {
     "name": "stderr",
     "output_type": "stream",
     "text": [
      "/home/thiagoms/anaconda3/lib/python3.7/site-packages/umap/spectral.py:229: UserWarning: Embedding a total of 5 separate connected components using meta-embedding (experimental)\n",
      "  n_components\n"
     ]
    },
    {
     "name": "stdout",
     "output_type": "stream",
     "text": [
      "CPU times: user 43.7 s, sys: 2.57 s, total: 46.3 s\n",
      "Wall time: 46.3 s\n"
     ]
    },
    {
     "data": {
      "image/png": "[encoded data removed]",
      "text/plain": [
       "<Figure size 432x288 with 1 Axes>"
      ]
     },
     "metadata": {
      "needs_background": "light"
     },
     "output_type": "display_data"
    }
   ],
   "source": [
    "MAF = .05\n",
    "size = len(corpus_filenames)\n",
    "%time plot_clusters(UMAP().fit_transform(Xhash[:, (MAF*size <Xhash.getnnz(0)) ]), hdbscan.HDBSCAN, (), {'min_cluster_size':15}) # & (Xhash.getnnz(0)< (1- MAF)*size )"
   ]
  },
  {
   "cell_type": "code",
   "execution_count": 26,
   "metadata": {},
   "outputs": [
    {
     "name": "stderr",
     "output_type": "stream",
     "text": [
      "/home/thiagoms/anaconda3/lib/python3.7/site-packages/umap/spectral.py:229: UserWarning: Embedding a total of 5 separate connected components using meta-embedding (experimental)\n",
      "  n_components\n"
     ]
    },
    {
     "name": "stdout",
     "output_type": "stream",
     "text": [
      "CPU times: user 32.8 s, sys: 3.89 s, total: 36.7 s\n",
      "Wall time: 36.3 s\n"
     ]
    },
    {
     "data": {
      "image/png": "[encoded data removed]",
      "text/plain": [
       "<Figure size 432x288 with 1 Axes>"
      ]
     },
     "metadata": {
      "needs_background": "light"
     },
     "output_type": "display_data"
    }
   ],
   "source": [
    "%time plot_clusters(UMAP().fit_transform(Xhash), hdbscan.HDBSCAN, (), {'min_cluster_size':15})"
   ]
  },
  {
   "cell_type": "code",
   "execution_count": 27,
   "metadata": {},
   "outputs": [
    {
     "name": "stderr",
     "output_type": "stream",
     "text": [
      "/home/thiagoms/anaconda3/lib/python3.7/site-packages/umap/spectral.py:229: UserWarning: Embedding a total of 5 separate connected components using meta-embedding (experimental)\n",
      "  n_components\n"
     ]
    },
    {
     "name": "stdout",
     "output_type": "stream",
     "text": [
      "CPU times: user 44 s, sys: 4.28 s, total: 48.3 s\n",
      "Wall time: 48 s\n"
     ]
    },
    {
     "data": {
      "image/png": "[encoded data removed]",
      "text/plain": [
       "<Figure size 432x288 with 1 Axes>"
      ]
     },
     "metadata": {
      "needs_background": "light"
     },
     "output_type": "display_data"
    }
   ],
   "source": [
    "%time plot_clusters(UMAP().fit_transform(TfidfTransformer().fit_transform(Xhash)), hdbscan.HDBSCAN, (), {'min_cluster_size':5})"
   ]
  },
  {
   "cell_type": "code",
   "execution_count": null,
   "metadata": {},
   "outputs": [],
   "source": []
  },
  {
   "cell_type": "code",
   "execution_count": null,
   "metadata": {},
   "outputs": [],
   "source": [
    "#import sys\n",
    "#from distutils.core import setup"
   ]
  },
  {
   "cell_type": "code",
   "execution_count": null,
   "metadata": {},
   "outputs": [],
   "source": [
    "#from Cython.Build import cythonize\n",
    "\n",
    "#setup(\n",
    "#    ext_modules = cythonize(\"functions2.pyx\", compiler_directives={'language_level' : sys.version_info[0]})\n",
    "#)"
   ]
  },
  {
   "cell_type": "markdown",
   "metadata": {},
   "source": [
    "# working on servers"
   ]
  },
  {
   "cell_type": "code",
   "execution_count": null,
   "metadata": {},
   "outputs": [],
   "source": [
    "from dask import delayed\n",
    "\n",
    "%load_ext cython\n",
    "\n",
    "# Create a toy Cython function and put it into a module named remoteCython\n",
    "%%cython -n remoteCython\n",
    "def cython_sum(int a, int b):\n",
    "    return a+b\n",
    "\n",
    "# Set up a distributed cluster (minimal, just for illustration)\n",
    "# I use SLURM.\n",
    "from dask_jobqueue import SLURMCluster\n",
    "from distributed import Client\n",
    "\n",
    "cluster = SLURMCluster(memory=\"1GB\",\n",
    "                       processes=1,\n",
    "                       cores=1,\n",
    "                       walltime=\"00:10:00\")\n",
    "\n",
    "cluster.start_workers(1)   # Start as many workers as needed.\n",
    "\n",
    "\n",
    "\n",
    "client = Client(cluster)\n",
    "\n"
   ]
  },
  {
   "cell_type": "code",
   "execution_count": 1,
   "metadata": {},
   "outputs": [],
   "source": [
    "import vaex"
   ]
  },
  {
   "cell_type": "code",
   "execution_count": 16,
   "metadata": {},
   "outputs": [
    {
     "name": "stderr",
     "output_type": "stream",
     "text": [
      "ERROR:MainThread:vaex:error opening 'data/000genome.txt.hdf5'\n"
     ]
    },
    {
     "ename": "KeyError",
     "evalue": "\"Unable to open object (object 'data' doesn't exist)\"",
     "output_type": "error",
     "traceback": [
      "\u001b[0;31m---------------------------------------------------------------------------\u001b[0m",
      "\u001b[0;31mKeyError\u001b[0m                                  Traceback (most recent call last)",
      "\u001b[0;32m<ipython-input-16-7d0798a833a0>\u001b[0m in \u001b[0;36m<module>\u001b[0;34m\u001b[0m\n\u001b[0;32m----> 1\u001b[0;31m \u001b[0mdf\u001b[0m \u001b[0;34m=\u001b[0m \u001b[0mvaex\u001b[0m\u001b[0;34m.\u001b[0m\u001b[0mread_csv_and_convert\u001b[0m\u001b[0;34m(\u001b[0m\u001b[0;34m'data/000genome.txt'\u001b[0m\u001b[0;34m,\u001b[0m \u001b[0mnames\u001b[0m \u001b[0;34m=\u001b[0m \u001b[0;34m[\u001b[0m\u001b[0;34m'text'\u001b[0m\u001b[0;34m]\u001b[0m \u001b[0;34m)\u001b[0m \u001b[0;31m#\u001b[0m\u001b[0;34m\u001b[0m\u001b[0;34m\u001b[0m\u001b[0m\n\u001b[0m",
      "\u001b[0;32m~/anaconda3/lib/python3.7/site-packages/vaex/__init__.py\u001b[0m in \u001b[0;36mread_csv_and_convert\u001b[0;34m(path, shuffle, copy_index, **kwargs)\u001b[0m\n\u001b[1;32m    609\u001b[0m                 \u001b[0mds\u001b[0m \u001b[0;34m=\u001b[0m \u001b[0mopen\u001b[0m\u001b[0;34m(\u001b[0m\u001b[0mfilename_hdf5_noshuffle\u001b[0m\u001b[0;34m)\u001b[0m\u001b[0;34m\u001b[0m\u001b[0;34m\u001b[0m\u001b[0m\n\u001b[1;32m    610\u001b[0m             \u001b[0mds\u001b[0m\u001b[0;34m.\u001b[0m\u001b[0mexport_hdf5\u001b[0m\u001b[0;34m(\u001b[0m\u001b[0mfilename_hdf5\u001b[0m\u001b[0;34m,\u001b[0m \u001b[0mshuffle\u001b[0m\u001b[0;34m=\u001b[0m\u001b[0mshuffle\u001b[0m\u001b[0;34m)\u001b[0m\u001b[0;34m\u001b[0m\u001b[0;34m\u001b[0m\u001b[0m\n\u001b[0;32m--> 611\u001b[0;31m         \u001b[0;32mreturn\u001b[0m \u001b[0mopen\u001b[0m\u001b[0;34m(\u001b[0m\u001b[0mfilename_hdf5\u001b[0m\u001b[0;34m)\u001b[0m\u001b[0;34m\u001b[0m\u001b[0;34m\u001b[0m\u001b[0m\n\u001b[0m\u001b[1;32m    612\u001b[0m \u001b[0;34m\u001b[0m\u001b[0m\n\u001b[1;32m    613\u001b[0m \u001b[0;34m\u001b[0m\u001b[0m\n",
      "\u001b[0;32m~/anaconda3/lib/python3.7/site-packages/vaex/__init__.py\u001b[0m in \u001b[0;36mopen\u001b[0;34m(path, convert, shuffle, copy_index, *args, **kwargs)\u001b[0m\n\u001b[1;32m    196\u001b[0m                         \u001b[0mds\u001b[0m \u001b[0;34m=\u001b[0m \u001b[0mfrom_csv\u001b[0m\u001b[0;34m(\u001b[0m\u001b[0mpath\u001b[0m\u001b[0;34m,\u001b[0m \u001b[0mcopy_index\u001b[0m\u001b[0;34m=\u001b[0m\u001b[0mcopy_index\u001b[0m\u001b[0;34m,\u001b[0m \u001b[0mconvert\u001b[0m\u001b[0;34m=\u001b[0m\u001b[0mcsv_convert\u001b[0m\u001b[0;34m,\u001b[0m \u001b[0;34m**\u001b[0m\u001b[0mkwargs\u001b[0m\u001b[0;34m)\u001b[0m\u001b[0;34m\u001b[0m\u001b[0;34m\u001b[0m\u001b[0m\n\u001b[1;32m    197\u001b[0m                     \u001b[0;32melse\u001b[0m\u001b[0;34m:\u001b[0m\u001b[0;34m\u001b[0m\u001b[0;34m\u001b[0m\u001b[0m\n\u001b[0;32m--> 198\u001b[0;31m                         \u001b[0mds\u001b[0m \u001b[0;34m=\u001b[0m \u001b[0mvaex\u001b[0m\u001b[0;34m.\u001b[0m\u001b[0mfile\u001b[0m\u001b[0;34m.\u001b[0m\u001b[0mopen\u001b[0m\u001b[0;34m(\u001b[0m\u001b[0mpath\u001b[0m\u001b[0;34m,\u001b[0m \u001b[0;34m*\u001b[0m\u001b[0margs\u001b[0m\u001b[0;34m,\u001b[0m \u001b[0;34m**\u001b[0m\u001b[0mkwargs\u001b[0m\u001b[0;34m)\u001b[0m\u001b[0;34m\u001b[0m\u001b[0;34m\u001b[0m\u001b[0m\n\u001b[0m\u001b[1;32m    199\u001b[0m                         \u001b[0;32mif\u001b[0m \u001b[0mconvert\u001b[0m \u001b[0;32mand\u001b[0m \u001b[0mds\u001b[0m\u001b[0;34m:\u001b[0m\u001b[0;34m\u001b[0m\u001b[0;34m\u001b[0m\u001b[0m\n\u001b[1;32m    200\u001b[0m                             \u001b[0mds\u001b[0m\u001b[0;34m.\u001b[0m\u001b[0mexport_hdf5\u001b[0m\u001b[0;34m(\u001b[0m\u001b[0mfilename_hdf5\u001b[0m\u001b[0;34m,\u001b[0m \u001b[0mshuffle\u001b[0m\u001b[0;34m=\u001b[0m\u001b[0mshuffle\u001b[0m\u001b[0;34m)\u001b[0m\u001b[0;34m\u001b[0m\u001b[0;34m\u001b[0m\u001b[0m\n",
      "\u001b[0;32m~/anaconda3/lib/python3.7/site-packages/vaex/file/__init__.py\u001b[0m in \u001b[0;36mopen\u001b[0;34m(path, *args, **kwargs)\u001b[0m\n\u001b[1;32m     39\u001b[0m             \u001b[0;32mbreak\u001b[0m\u001b[0;34m\u001b[0m\u001b[0;34m\u001b[0m\u001b[0m\n\u001b[1;32m     40\u001b[0m     \u001b[0;32mif\u001b[0m \u001b[0mdataset_class\u001b[0m\u001b[0;34m:\u001b[0m\u001b[0;34m\u001b[0m\u001b[0;34m\u001b[0m\u001b[0m\n\u001b[0;32m---> 41\u001b[0;31m         \u001b[0mdataset\u001b[0m \u001b[0;34m=\u001b[0m \u001b[0mdataset_class\u001b[0m\u001b[0;34m(\u001b[0m\u001b[0mpath\u001b[0m\u001b[0;34m,\u001b[0m \u001b[0;34m*\u001b[0m\u001b[0margs\u001b[0m\u001b[0;34m,\u001b[0m \u001b[0;34m**\u001b[0m\u001b[0mkwargs\u001b[0m\u001b[0;34m)\u001b[0m\u001b[0;34m\u001b[0m\u001b[0;34m\u001b[0m\u001b[0m\n\u001b[0m\u001b[1;32m     42\u001b[0m         \u001b[0;32mreturn\u001b[0m \u001b[0mdataset\u001b[0m\u001b[0;34m\u001b[0m\u001b[0;34m\u001b[0m\u001b[0m\n\u001b[1;32m     43\u001b[0m \u001b[0;34m\u001b[0m\u001b[0m\n",
      "\u001b[0;32m~/anaconda3/lib/python3.7/site-packages/vaex/hdf5/dataset.py\u001b[0m in \u001b[0;36m__init__\u001b[0;34m(self, filename, write)\u001b[0m\n\u001b[1;32m     84\u001b[0m         \u001b[0mself\u001b[0m\u001b[0;34m.\u001b[0m\u001b[0mh5table_root_name\u001b[0m \u001b[0;34m=\u001b[0m \u001b[0;32mNone\u001b[0m\u001b[0;34m\u001b[0m\u001b[0;34m\u001b[0m\u001b[0m\n\u001b[1;32m     85\u001b[0m         \u001b[0mself\u001b[0m\u001b[0;34m.\u001b[0m\u001b[0m_version\u001b[0m \u001b[0;34m=\u001b[0m \u001b[0;36m1\u001b[0m\u001b[0;34m\u001b[0m\u001b[0;34m\u001b[0m\u001b[0m\n\u001b[0;32m---> 86\u001b[0;31m         \u001b[0mself\u001b[0m\u001b[0;34m.\u001b[0m\u001b[0m_load\u001b[0m\u001b[0;34m(\u001b[0m\u001b[0;34m)\u001b[0m\u001b[0;34m\u001b[0m\u001b[0;34m\u001b[0m\u001b[0m\n\u001b[0m\u001b[1;32m     87\u001b[0m \u001b[0;34m\u001b[0m\u001b[0m\n\u001b[1;32m     88\u001b[0m     \u001b[0;32mdef\u001b[0m \u001b[0mwrite_meta\u001b[0m\u001b[0;34m(\u001b[0m\u001b[0mself\u001b[0m\u001b[0;34m)\u001b[0m\u001b[0;34m:\u001b[0m\u001b[0;34m\u001b[0m\u001b[0;34m\u001b[0m\u001b[0m\n",
      "\u001b[0;32m~/anaconda3/lib/python3.7/site-packages/vaex/hdf5/dataset.py\u001b[0m in \u001b[0;36m_load\u001b[0;34m(self)\u001b[0m\n\u001b[1;32m    186\u001b[0m         \u001b[0;32mif\u001b[0m \u001b[0;34m\"table\"\u001b[0m \u001b[0;32min\u001b[0m \u001b[0mself\u001b[0m\u001b[0;34m.\u001b[0m\u001b[0mh5file\u001b[0m\u001b[0;34m:\u001b[0m\u001b[0;34m\u001b[0m\u001b[0;34m\u001b[0m\u001b[0m\n\u001b[1;32m    187\u001b[0m             \u001b[0mself\u001b[0m\u001b[0;34m.\u001b[0m\u001b[0m_version\u001b[0m \u001b[0;34m=\u001b[0m \u001b[0;36m2\u001b[0m\u001b[0;34m\u001b[0m\u001b[0;34m\u001b[0m\u001b[0m\n\u001b[0;32m--> 188\u001b[0;31m             \u001b[0mself\u001b[0m\u001b[0;34m.\u001b[0m\u001b[0m_load_columns\u001b[0m\u001b[0;34m(\u001b[0m\u001b[0mself\u001b[0m\u001b[0;34m.\u001b[0m\u001b[0mh5file\u001b[0m\u001b[0;34m[\u001b[0m\u001b[0;34m\"/table\"\u001b[0m\u001b[0;34m]\u001b[0m\u001b[0;34m)\u001b[0m\u001b[0;34m\u001b[0m\u001b[0;34m\u001b[0m\u001b[0m\n\u001b[0m\u001b[1;32m    189\u001b[0m             \u001b[0mself\u001b[0m\u001b[0;34m.\u001b[0m\u001b[0mh5table_root_name\u001b[0m \u001b[0;34m=\u001b[0m \u001b[0;34m\"/table\"\u001b[0m\u001b[0;34m\u001b[0m\u001b[0;34m\u001b[0m\u001b[0m\n\u001b[1;32m    190\u001b[0m         \u001b[0mroot_datasets\u001b[0m \u001b[0;34m=\u001b[0m \u001b[0;34m[\u001b[0m\u001b[0mdataset\u001b[0m \u001b[0;32mfor\u001b[0m \u001b[0mname\u001b[0m\u001b[0;34m,\u001b[0m \u001b[0mdataset\u001b[0m \u001b[0;32min\u001b[0m \u001b[0mself\u001b[0m\u001b[0;34m.\u001b[0m\u001b[0mh5file\u001b[0m\u001b[0;34m.\u001b[0m\u001b[0mitems\u001b[0m\u001b[0;34m(\u001b[0m\u001b[0;34m)\u001b[0m \u001b[0;32mif\u001b[0m \u001b[0misinstance\u001b[0m\u001b[0;34m(\u001b[0m\u001b[0mdataset\u001b[0m\u001b[0;34m,\u001b[0m \u001b[0mh5py\u001b[0m\u001b[0;34m.\u001b[0m\u001b[0mDataset\u001b[0m\u001b[0;34m)\u001b[0m\u001b[0;34m]\u001b[0m\u001b[0;34m\u001b[0m\u001b[0;34m\u001b[0m\u001b[0m\n",
      "\u001b[0;32m~/anaconda3/lib/python3.7/site-packages/vaex/hdf5/dataset.py\u001b[0m in \u001b[0;36m_load_columns\u001b[0;34m(self, h5data, first)\u001b[0m\n\u001b[1;32m    326\u001b[0m                     \u001b[0;32mif\u001b[0m \u001b[0munitname\u001b[0m \u001b[0;34m==\u001b[0m \u001b[0;34m\"system.get('S.I.').base('mass')\"\u001b[0m\u001b[0;34m:\u001b[0m\u001b[0;34m\u001b[0m\u001b[0;34m\u001b[0m\u001b[0m\n\u001b[1;32m    327\u001b[0m                         \u001b[0mself\u001b[0m\u001b[0;34m.\u001b[0m\u001b[0munits\u001b[0m\u001b[0;34m[\u001b[0m\u001b[0mcolumn_name\u001b[0m\u001b[0;34m]\u001b[0m \u001b[0;34m=\u001b[0m \u001b[0mastropy\u001b[0m\u001b[0;34m.\u001b[0m\u001b[0munits\u001b[0m\u001b[0;34m.\u001b[0m\u001b[0mUnit\u001b[0m\u001b[0;34m(\u001b[0m\u001b[0;34m\"kg\"\u001b[0m\u001b[0;34m)\u001b[0m\u001b[0;34m\u001b[0m\u001b[0;34m\u001b[0m\u001b[0m\n\u001b[0;32m--> 328\u001b[0;31m                 \u001b[0mdata\u001b[0m \u001b[0;34m=\u001b[0m \u001b[0mcolumn\u001b[0m \u001b[0;32mif\u001b[0m \u001b[0mself\u001b[0m\u001b[0;34m.\u001b[0m\u001b[0m_version\u001b[0m \u001b[0;34m==\u001b[0m \u001b[0;36m1\u001b[0m \u001b[0;32melse\u001b[0m \u001b[0mcolumn\u001b[0m\u001b[0;34m[\u001b[0m\u001b[0;34m'data'\u001b[0m\u001b[0;34m]\u001b[0m\u001b[0;34m\u001b[0m\u001b[0;34m\u001b[0m\u001b[0m\n\u001b[0m\u001b[1;32m    329\u001b[0m                 \u001b[0;32mif\u001b[0m \u001b[0mhasattr\u001b[0m\u001b[0;34m(\u001b[0m\u001b[0mdata\u001b[0m\u001b[0;34m,\u001b[0m \u001b[0;34m\"dtype\"\u001b[0m\u001b[0;34m)\u001b[0m\u001b[0;34m:\u001b[0m\u001b[0;34m\u001b[0m\u001b[0;34m\u001b[0m\u001b[0m\n\u001b[1;32m    330\u001b[0m                     \u001b[0;32mif\u001b[0m \u001b[0;34m\"dtype\"\u001b[0m \u001b[0;32min\u001b[0m \u001b[0mdata\u001b[0m\u001b[0;34m.\u001b[0m\u001b[0mattrs\u001b[0m \u001b[0;32mand\u001b[0m \u001b[0mdata\u001b[0m\u001b[0;34m.\u001b[0m\u001b[0mattrs\u001b[0m\u001b[0;34m[\u001b[0m\u001b[0;34m\"dtype\"\u001b[0m\u001b[0;34m]\u001b[0m \u001b[0;34m==\u001b[0m \u001b[0;34m\"str\"\u001b[0m\u001b[0;34m:\u001b[0m\u001b[0;34m\u001b[0m\u001b[0;34m\u001b[0m\u001b[0m\n",
      "\u001b[0;32mh5py/_objects.pyx\u001b[0m in \u001b[0;36mh5py._objects.with_phil.wrapper\u001b[0;34m()\u001b[0m\n",
      "\u001b[0;32mh5py/_objects.pyx\u001b[0m in \u001b[0;36mh5py._objects.with_phil.wrapper\u001b[0;34m()\u001b[0m\n",
      "\u001b[0;32m~/anaconda3/lib/python3.7/site-packages/h5py/_hl/group.py\u001b[0m in \u001b[0;36m__getitem__\u001b[0;34m(self, name)\u001b[0m\n\u001b[1;32m    262\u001b[0m                 \u001b[0;32mraise\u001b[0m \u001b[0mValueError\u001b[0m\u001b[0;34m(\u001b[0m\u001b[0;34m\"Invalid HDF5 object reference\"\u001b[0m\u001b[0;34m)\u001b[0m\u001b[0;34m\u001b[0m\u001b[0;34m\u001b[0m\u001b[0m\n\u001b[1;32m    263\u001b[0m         \u001b[0;32melse\u001b[0m\u001b[0;34m:\u001b[0m\u001b[0;34m\u001b[0m\u001b[0;34m\u001b[0m\u001b[0m\n\u001b[0;32m--> 264\u001b[0;31m             \u001b[0moid\u001b[0m \u001b[0;34m=\u001b[0m \u001b[0mh5o\u001b[0m\u001b[0;34m.\u001b[0m\u001b[0mopen\u001b[0m\u001b[0;34m(\u001b[0m\u001b[0mself\u001b[0m\u001b[0;34m.\u001b[0m\u001b[0mid\u001b[0m\u001b[0;34m,\u001b[0m \u001b[0mself\u001b[0m\u001b[0;34m.\u001b[0m\u001b[0m_e\u001b[0m\u001b[0;34m(\u001b[0m\u001b[0mname\u001b[0m\u001b[0;34m)\u001b[0m\u001b[0;34m,\u001b[0m \u001b[0mlapl\u001b[0m\u001b[0;34m=\u001b[0m\u001b[0mself\u001b[0m\u001b[0;34m.\u001b[0m\u001b[0m_lapl\u001b[0m\u001b[0;34m)\u001b[0m\u001b[0;34m\u001b[0m\u001b[0;34m\u001b[0m\u001b[0m\n\u001b[0m\u001b[1;32m    265\u001b[0m \u001b[0;34m\u001b[0m\u001b[0m\n\u001b[1;32m    266\u001b[0m         \u001b[0motype\u001b[0m \u001b[0;34m=\u001b[0m \u001b[0mh5i\u001b[0m\u001b[0;34m.\u001b[0m\u001b[0mget_type\u001b[0m\u001b[0;34m(\u001b[0m\u001b[0moid\u001b[0m\u001b[0;34m)\u001b[0m\u001b[0;34m\u001b[0m\u001b[0;34m\u001b[0m\u001b[0m\n",
      "\u001b[0;32mh5py/_objects.pyx\u001b[0m in \u001b[0;36mh5py._objects.with_phil.wrapper\u001b[0;34m()\u001b[0m\n",
      "\u001b[0;32mh5py/_objects.pyx\u001b[0m in \u001b[0;36mh5py._objects.with_phil.wrapper\u001b[0;34m()\u001b[0m\n",
      "\u001b[0;32mh5py/h5o.pyx\u001b[0m in \u001b[0;36mh5py.h5o.open\u001b[0;34m()\u001b[0m\n",
      "\u001b[0;31mKeyError\u001b[0m: \"Unable to open object (object 'data' doesn't exist)\""
     ]
    }
   ],
   "source": [
    "df = vaex.read_csv_and_convert('data/000genome.txt', names = ['text'] ) #"
   ]
  },
  {
   "cell_type": "code",
   "execution_count": 14,
   "metadata": {},
   "outputs": [
    {
     "data": {
      "text/html": [
       "<table>\n",
       "<thead>\n",
       "<tr><th>#                                 </th><th>text                                               </th></tr>\n",
       "</thead>\n",
       "<tbody>\n",
       "<tr><td><i style='opacity: 0.6'>0</i>     </td><td>1stline                                            </td></tr>\n",
       "<tr><td><i style='opacity: 0.6'>1</i>     </td><td>&#x27;TATCCGGTCCCATGTGGTCAGTGTTGCTCCCCCGGGGGATTAACTAA...</td></tr>\n",
       "<tr><td><i style='opacity: 0.6'>2</i>     </td><td>3rdline                                            </td></tr>\n",
       "<tr><td><i style='opacity: 0.6'>3</i>     </td><td>4thline                                            </td></tr>\n",
       "<tr><td><i style='opacity: 0.6'>4</i>     </td><td>1stline                                            </td></tr>\n",
       "<tr><td>...                               </td><td>...                                                </td></tr>\n",
       "<tr><td><i style='opacity: 0.6'>79,995</i></td><td>4thline                                            </td></tr>\n",
       "<tr><td><i style='opacity: 0.6'>79,996</i></td><td>1stline                                            </td></tr>\n",
       "<tr><td><i style='opacity: 0.6'>79,997</i></td><td>&#x27;GGAGAACTAGTTGAAAGGAGGCATATGTATCAGTAATCCATGTAGTA...</td></tr>\n",
       "<tr><td><i style='opacity: 0.6'>79,998</i></td><td>3rdline                                            </td></tr>\n",
       "<tr><td><i style='opacity: 0.6'>79,999</i></td><td>4thline                                            </td></tr>\n",
       "</tbody>\n",
       "</table>"
      ],
      "text/plain": [
       "#       text\n",
       "0       1stline\n",
       "1       'TATCCGGTCCCATGTGGTCAGTGTTGCTCCCCCGGGGGATTAACTAA...\n",
       "2       3rdline\n",
       "3       4thline\n",
       "4       1stline\n",
       "...     ...\n",
       "79,995  4thline\n",
       "79,996  1stline\n",
       "79,997  'GGAGAACTAGTTGAAAGGAGGCATATGTATCAGTAATCCATGTAGTA...\n",
       "79,998  3rdline\n",
       "79,999  4thline"
      ]
     },
     "execution_count": 14,
     "metadata": {},
     "output_type": "execute_result"
    }
   ],
   "source": [
    "df"
   ]
  },
  {
   "cell_type": "code",
   "execution_count": null,
   "metadata": {},
   "outputs": [],
   "source": []
  },
  {
   "cell_type": "code",
   "execution_count": 32,
   "metadata": {},
   "outputs": [],
   "source": [
    " # This runs init_pyx() on any Worker at init"
   ]
  },
  {
   "cell_type": "code",
   "execution_count": null,
   "metadata": {},
   "outputs": [],
   "source": []
  },
  {
   "cell_type": "code",
   "execution_count": 29,
   "metadata": {},
   "outputs": [],
   "source": [
    "a = []"
   ]
  },
  {
   "cell_type": "code",
   "execution_count": null,
   "metadata": {},
   "outputs": [],
   "source": []
  },
  {
   "cell_type": "code",
   "execution_count": null,
   "metadata": {},
   "outputs": [],
   "source": []
  },
  {
   "cell_type": "code",
   "execution_count": null,
   "metadata": {},
   "outputs": [],
   "source": []
  }
 ],
 "metadata": {
  "kernelspec": {
   "display_name": "Python 3",
   "language": "python",
   "name": "python3"
  },
  "language_info": {
   "codemirror_mode": {
    "name": "ipython",
    "version": 3
   },
   "file_extension": ".py",
   "mimetype": "text/x-python",
   "name": "python",
   "nbconvert_exporter": "python",
   "pygments_lexer": "ipython3",
   "version": "3.7.6"
  }
 },
 "nbformat": 4,
 "nbformat_minor": 4
}
