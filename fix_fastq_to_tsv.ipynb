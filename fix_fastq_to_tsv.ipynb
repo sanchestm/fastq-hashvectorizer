{
 "cells": [
  {
   "cell_type": "code",
   "execution_count": 1,
   "metadata": {},
   "outputs": [],
   "source": [
    "import ast\n",
    "import numpy as np\n",
    "%matplotlib inline\n",
    "import pandas as pd\n",
    "from pandas.plotting import scatter_matrix\n",
    "import matplotlib.pyplot as plt\n",
    "import matplotlib\n",
    "matplotlib.style.use('seaborn-whitegrid')\n",
    "from sklearn import linear_model\n",
    "plt.rcParams[\"figure.figsize\"] = (16,8)\n",
    "import math\n",
    "import seaborn as sns\n",
    "from sklearn.feature_extraction import DictVectorizer\n",
    "import umap\n",
    "import hdbscan\n",
    "import sklearn.cluster as cluster\n",
    "from sklearn.metrics import adjusted_rand_score, adjusted_mutual_info_score\n",
    "import functions"
   ]
  },
  {
   "cell_type": "code",
   "execution_count": 2,
   "metadata": {},
   "outputs": [],
   "source": [
    "import re\n",
    "from random import choice"
   ]
  },
  {
   "cell_type": "code",
   "execution_count": 3,
   "metadata": {},
   "outputs": [
    {
     "data": {
      "text/plain": [
       "'CGTCGTCATTCTATTACATATAAAAATGCCACACCATTCTAAGGGTGGACTGTCAGTTTCCAGACTAAACCGGCCTTCCCTTCTACACCTATACTGCTGTATGATTGGCTCTTATTCTTCAGATATCTTGATTCGCATTAAATATAACAC'"
      ]
     },
     "execution_count": 3,
     "metadata": {},
     "output_type": "execute_result"
    }
   ],
   "source": [
    "read = ''\n",
    "for i in range(150): read += choice(['A', 'T', 'C', 'G'])\n",
    "read"
   ]
  },
  {
   "cell_type": "code",
   "execution_count": 4,
   "metadata": {},
   "outputs": [],
   "source": [
    "def nuc_to_num(read):\n",
    "    return read.replace('A', '1').replace('C', '2').replace('G', '3').replace('T', '4')"
   ]
  },
  {
   "cell_type": "code",
   "execution_count": 5,
   "metadata": {},
   "outputs": [],
   "source": [
    "def convertdatatype(read):\n",
    "    try: inverse = int(nuc_to_num(read[::-1]), 5)\n",
    "    except: return -1\n",
    "    verse = int(nuc_to_num(read), 5)\n",
    "    if verse < inverse: return verse\n",
    "    return inverse"
   ]
  },
  {
   "cell_type": "code",
   "execution_count": 6,
   "metadata": {},
   "outputs": [],
   "source": [
    "def nuc_to_base32(read):\n",
    "    return np.base_repr(convertdatatype(read), base=32)"
   ]
  },
  {
   "cell_type": "code",
   "execution_count": 7,
   "metadata": {},
   "outputs": [],
   "source": [
    "def base32_to_nuc(val):\n",
    "    dna_enc = np.base_repr(int(val, 32), base=5)\n",
    "    return dna_enc.replace('1', 'A').replace('2', 'C').replace('3', 'G').replace('4', 'T')"
   ]
  },
  {
   "cell_type": "code",
   "execution_count": 8,
   "metadata": {},
   "outputs": [],
   "source": [
    "def cut_to_kmer(read, length):\n",
    "    return (re.findall('.{'+str(length)+'}', read))\n",
    "\n",
    "def get_kmers(read, ksize):\n",
    "    return [read[i:i+ksize] for i in range(0, len(read)-ksize+1)]\n",
    "\n",
    "    "
   ]
  },
  {
   "cell_type": "code",
   "execution_count": 74,
   "metadata": {},
   "outputs": [],
   "source": [
    "def get_kmers_from_read(read, kmer_len):\n",
    "    kmers = np.array(list(map(nuc_to_base32, get_kmers(read, kmer_len))))\n",
    "    return kmers[kmers != '-1']"
   ]
  },
  {
   "cell_type": "code",
   "execution_count": 75,
   "metadata": {},
   "outputs": [],
   "source": [
    "def get_kmers_from_read_int(read, kmer_len):\n",
    "    kmers = np.array(list(map(convertdatatype, get_kmers(read, kmer_len))))\n",
    "    return kmers[kmers != '-1']"
   ]
  },
  {
   "cell_type": "code",
   "execution_count": 11,
   "metadata": {},
   "outputs": [
    {
     "name": "stdout",
     "output_type": "stream",
     "text": [
      "733 µs ± 23.9 µs per loop (mean ± std. dev. of 7 runs, 1000 loops each)\n"
     ]
    }
   ],
   "source": [
    "%timeit get_kmers_from_read(read, 40)\n"
   ]
  },
  {
   "cell_type": "code",
   "execution_count": 15,
   "metadata": {},
   "outputs": [
    {
     "data": {
      "text/plain": [
       "array(['42Q7L8HOSIOABVRDCGO', '2Q76IL4QRF32QFTH60R',\n",
       "       '2122BM06MTKOHQO7DF5', '42LK9OJNN5ORM9HBKLK',\n",
       "       '5BRUNVJ18K82RTJIF8H', '5FDSFRKNFJU24PE2R1T',\n",
       "       '3GM0CG95JESGU48HFOT', '2T7NEVLEJ054P9JFK6I',\n",
       "       '5I6AI8DUIQ9MCBGP7M4', '2IL356L7EPFM26LLQJD'], dtype='<U19')"
      ]
     },
     "execution_count": 15,
     "metadata": {},
     "output_type": "execute_result"
    }
   ],
   "source": [
    "get_kmers_from_read(read, 40)[:10]"
   ]
  },
  {
   "cell_type": "code",
   "execution_count": 16,
   "metadata": {},
   "outputs": [
    {
     "data": {
      "text/plain": [
       "0"
      ]
     },
     "execution_count": 16,
     "metadata": {},
     "output_type": "execute_result"
    }
   ],
   "source": [
    "import os\n",
    "import subprocess\n",
    "#os.system('split -l 50000 example_100000_reads.txt')\n",
    "int(subprocess.check_output('wc -l xaa.fastq', shell=True).split()[0])%4"
   ]
  },
  {
   "cell_type": "code",
   "execution_count": 17,
   "metadata": {},
   "outputs": [],
   "source": [
    "from sklearn.feature_extraction.text import CountVectorizer\n",
    "vectorizer = CountVectorizer()"
   ]
  },
  {
   "cell_type": "markdown",
   "metadata": {},
   "source": [
    "### better formating to H5 instead of fastq"
   ]
  },
  {
   "cell_type": "code",
   "execution_count": 18,
   "metadata": {},
   "outputs": [],
   "source": [
    "from pathlib import Path\n",
    "import numpy as np\n",
    "import os"
   ]
  },
  {
   "cell_type": "code",
   "execution_count": 25,
   "metadata": {},
   "outputs": [],
   "source": [
    "def Fastq2KmersCompressed(filename, k = 30):\n",
    "    with open(filename) as FQfile:\n",
    "        with open(filename.split('.')[0] + '_kmers_b32.txt', 'w') as to_fil:\n",
    "            while 1:\n",
    "                if not FQfile.readline(): break\n",
    "                to_fil.write(' '.join(get_kmers_from_read(FQfile.readline(),k)))\n",
    "                FQfile.readline()\n",
    "                FQfile.readline()\n",
    "                \n",
    "def fastq2kmerstxt(filename, k = 30):\n",
    "    with open(filename) as FQfile:\n",
    "        with open(filename.split('.')[0] + '_kmers.txt', 'w') as to_fil:\n",
    "            while 1:\n",
    "                if not FQfile.readline(): break\n",
    "                to_fil.write(' '.join(get_kmers(FQfile.readline(), k)))\n",
    "                FQfile.readline()\n",
    "                FQfile.readline()\n",
    "                \n",
    "    \n",
    "def Read_NPY_file(filename):\n",
    "    stacks = np.array([])\n",
    "    with open(filename,'rb') as f:\n",
    "        for i in range(int(int(subprocess.check_output('wc -l ' + filename.split('_kmers')[0] + '.fastq', shell=True).split()[0])/4)):\n",
    "            stacks = np.hstack([np.load(f, allow_pickle=True), stacks])\n",
    "    return stacks"
   ]
  },
  {
   "cell_type": "code",
   "execution_count": 26,
   "metadata": {},
   "outputs": [
    {
     "name": "stdout",
     "output_type": "stream",
     "text": [
      "CPU times: user 11.6 s, sys: 75.8 ms, total: 11.7 s\n",
      "Wall time: 11.7 s\n"
     ]
    }
   ],
   "source": [
    "%%time\n",
    "Fastq2KmersCompressed('xaa.fastq', 30)"
   ]
  },
  {
   "cell_type": "code",
   "execution_count": 27,
   "metadata": {},
   "outputs": [
    {
     "name": "stdout",
     "output_type": "stream",
     "text": [
      "CPU times: user 391 ms, sys: 40.1 ms, total: 431 ms\n",
      "Wall time: 432 ms\n"
     ]
    }
   ],
   "source": [
    "%%time \n",
    "fastq2kmerstxt('xaa.fastq', 30)"
   ]
  },
  {
   "cell_type": "code",
   "execution_count": null,
   "metadata": {},
   "outputs": [],
   "source": [
    "%%time\n",
    "#kmer_list = Read_NPY_file('xaa_kmers.npy')\n",
    "#print(kmer_list.shape)\n"
   ]
  },
  {
   "cell_type": "code",
   "execution_count": 36,
   "metadata": {},
   "outputs": [],
   "source": [
    "def fastq2kmersH5(filename, ksize = 30, enc = 'base64'):\n",
    "    df = pd.HDFStore(filename.split('.')[0] + \"_kmers.h5\", 'w')\n",
    "    if enc == 'base64':\n",
    "        with open(filename) as FQfile:\n",
    "            while 1:\n",
    "                line = FQfile.readline()\n",
    "                if not line: break\n",
    "                df.append('seq',pd.DataFrame(get_kmers_from_read(FQfile.readline(), ksize), columns = ['kmers']), index=False )\n",
    "                FQfile.readline()\n",
    "                FQfile.readline()\n",
    "    elif enc == 'string':\n",
    "        with open(filename) as FQfile:\n",
    "            while 1:\n",
    "                line = FQfile.readline()\n",
    "                if not line: break\n",
    "                df.append('seq',pd.DataFrame(get_kmers(FQfile.readline(), ksize), columns = ['kmers']), index=False )\n",
    "                FQfile.readline()\n",
    "                FQfile.readline()\n",
    "    df.close()\n",
    "    \n",
    "def fastq2tsv(filename):\n",
    "    with open(filename) as FQfile:\n",
    "        with open(filename.split('.')[0] + '.tsv', 'w') as to_fil:\n",
    "            while 1:\n",
    "                if not FQfile.readline(): break\n",
    "                to_fil.write('\\t'.join([FQfile.readline().replace('\\n', ''), FQfile.readline().split(' ')[0][1:], FQfile.readline().replace('\\n', '')]))\n",
    "                to_fil.write('\\n')\n"
   ]
  },
  {
   "cell_type": "code",
   "execution_count": 37,
   "metadata": {},
   "outputs": [
    {
     "name": "stdout",
     "output_type": "stream",
     "text": [
      "CPU times: user 40.5 s, sys: 571 ms, total: 41 s\n",
      "Wall time: 41.3 s\n"
     ]
    }
   ],
   "source": [
    "%%time\n",
    "fastq2kmersH5('xaa.fastq', 30, enc = 'base64')\n"
   ]
  },
  {
   "cell_type": "code",
   "execution_count": 38,
   "metadata": {},
   "outputs": [
    {
     "name": "stdout",
     "output_type": "stream",
     "text": [
      "CPU times: user 199 ms, sys: 52.2 ms, total: 251 ms\n",
      "Wall time: 270 ms\n"
     ]
    }
   ],
   "source": [
    "%%time\n",
    "fastq2tsv('example_100000_reads.txt')"
   ]
  },
  {
   "cell_type": "markdown",
   "metadata": {},
   "source": [
    "# Open file Read, get Dict, make Sparse matrix"
   ]
  },
  {
   "cell_type": "code",
   "execution_count": 68,
   "metadata": {},
   "outputs": [
    {
     "name": "stdout",
     "output_type": "stream",
     "text": [
      "CPU times: user 1.34 s, sys: 96.4 ms, total: 1.43 s\n",
      "Wall time: 1.48 s\n"
     ]
    },
    {
     "data": {
      "text/html": [
       "<div>\n",
       "<style scoped>\n",
       "    .dataframe tbody tr th:only-of-type {\n",
       "        vertical-align: middle;\n",
       "    }\n",
       "\n",
       "    .dataframe tbody tr th {\n",
       "        vertical-align: top;\n",
       "    }\n",
       "\n",
       "    .dataframe thead th {\n",
       "        text-align: right;\n",
       "    }\n",
       "</style>\n",
       "<table border=\"1\" class=\"dataframe\">\n",
       "  <thead>\n",
       "    <tr style=\"text-align: right;\">\n",
       "      <th></th>\n",
       "      <th>kmers</th>\n",
       "    </tr>\n",
       "  </thead>\n",
       "  <tbody>\n",
       "    <tr>\n",
       "      <th>0</th>\n",
       "      <td>IRI7V10CHCG0DC</td>\n",
       "    </tr>\n",
       "    <tr>\n",
       "      <th>1</th>\n",
       "      <td>NUUBLSCVK6LUD9</td>\n",
       "    </tr>\n",
       "    <tr>\n",
       "      <th>2</th>\n",
       "      <td>LUQQDNJ3Q7HU49</td>\n",
       "    </tr>\n",
       "    <tr>\n",
       "      <th>3</th>\n",
       "      <td>8R0HM8V1FGRV0A</td>\n",
       "    </tr>\n",
       "    <tr>\n",
       "      <th>4</th>\n",
       "      <td>H4V46UA5OMOK2S</td>\n",
       "    </tr>\n",
       "    <tr>\n",
       "      <th>...</th>\n",
       "      <td>...</td>\n",
       "    </tr>\n",
       "    <tr>\n",
       "      <th>183</th>\n",
       "      <td>GDD31Q2LCRAS3B</td>\n",
       "    </tr>\n",
       "    <tr>\n",
       "      <th>184</th>\n",
       "      <td>DC6C1PMVKH54P5</td>\n",
       "    </tr>\n",
       "    <tr>\n",
       "      <th>185</th>\n",
       "      <td>I2G40VD8SL7TOD</td>\n",
       "    </tr>\n",
       "    <tr>\n",
       "      <th>186</th>\n",
       "      <td>EL4EA39V8IHB29</td>\n",
       "    </tr>\n",
       "    <tr>\n",
       "      <th>187</th>\n",
       "      <td>3U6N8BQOF5RH87</td>\n",
       "    </tr>\n",
       "  </tbody>\n",
       "</table>\n",
       "<p>2092953 rows × 1 columns</p>\n",
       "</div>"
      ],
      "text/plain": [
       "              kmers\n",
       "0    IRI7V10CHCG0DC\n",
       "1    NUUBLSCVK6LUD9\n",
       "2    LUQQDNJ3Q7HU49\n",
       "3    8R0HM8V1FGRV0A\n",
       "4    H4V46UA5OMOK2S\n",
       "..              ...\n",
       "183  GDD31Q2LCRAS3B\n",
       "184  DC6C1PMVKH54P5\n",
       "185  I2G40VD8SL7TOD\n",
       "186  EL4EA39V8IHB29\n",
       "187  3U6N8BQOF5RH87\n",
       "\n",
       "[2092953 rows x 1 columns]"
      ]
     },
     "execution_count": 68,
     "metadata": {},
     "output_type": "execute_result"
    }
   ],
   "source": [
    "%%time\n",
    "datah5  = pd.read_hdf('xaa_kmers.h5', key='seq')\n",
    "datah5"
   ]
  },
  {
   "cell_type": "code",
   "execution_count": 40,
   "metadata": {},
   "outputs": [
    {
     "name": "stdout",
     "output_type": "stream",
     "text": [
      "CPU times: user 372 ms, sys: 52.3 ms, total: 424 ms\n",
      "Wall time: 438 ms\n"
     ]
    },
    {
     "data": {
      "text/html": [
       "<div>\n",
       "<style scoped>\n",
       "    .dataframe tbody tr th:only-of-type {\n",
       "        vertical-align: middle;\n",
       "    }\n",
       "\n",
       "    .dataframe tbody tr th {\n",
       "        vertical-align: top;\n",
       "    }\n",
       "\n",
       "    .dataframe thead th {\n",
       "        text-align: right;\n",
       "    }\n",
       "</style>\n",
       "<table border=\"1\" class=\"dataframe\">\n",
       "  <thead>\n",
       "    <tr style=\"text-align: right;\">\n",
       "      <th></th>\n",
       "      <th>sequence</th>\n",
       "      <th>name</th>\n",
       "      <th>quality</th>\n",
       "    </tr>\n",
       "  </thead>\n",
       "  <tbody>\n",
       "    <tr>\n",
       "      <th>0</th>\n",
       "      <td>GTTAGGGTTAGGGTTGGGTTAGGGTTAGGGTTAGGGTTAGGGTTAG...</td>\n",
       "      <td>SRR925811.1</td>\n",
       "      <td>GGGGGGGGGGGGGEGGGGEGFFFFEFEFFFFGGGGFDFFFFFDFFE...</td>\n",
       "    </tr>\n",
       "    <tr>\n",
       "      <th>1</th>\n",
       "      <td>CCTAACCCTAACCCTAACCCTAACCCTAACCCTAACCCTAACCCTA...</td>\n",
       "      <td>SRR925811.2</td>\n",
       "      <td>GGDG?GGGEGG@G:GGGGGE?GBBGGGGGDGGEG@GGEB&lt;CAAA&gt;A...</td>\n",
       "    </tr>\n",
       "    <tr>\n",
       "      <th>2</th>\n",
       "      <td>TAGGGTTAGGGTTAGGGTTAGGGTTAGGGTTAGGGTTAGGGTTAGG...</td>\n",
       "      <td>SRR925811.3</td>\n",
       "      <td>IIIIIIIIIIIIIIIIIIIGGGGGGEGGGFGGGGGIIGIHGFGGGI...</td>\n",
       "    </tr>\n",
       "    <tr>\n",
       "      <th>3</th>\n",
       "      <td>TAGGGTTAGGGTTAGGGTTAGGGTTAGGGTTAGGGTTAGGGTTAGG...</td>\n",
       "      <td>SRR925811.4</td>\n",
       "      <td>GGGGGGGBGGGGGGGGGGGDGGGGGDGGGDB@EDDGGEGGBDGDGG...</td>\n",
       "    </tr>\n",
       "    <tr>\n",
       "      <th>4</th>\n",
       "      <td>CCTAACCCTAACCCCTAACCCCTAACCCTAACCCTAACCCTAACCC...</td>\n",
       "      <td>SRR925811.5</td>\n",
       "      <td>HHGHEHHHHHDHHGHHHHHHHHHHHHGHDHHHGHHDHHEHHHHHG@...</td>\n",
       "    </tr>\n",
       "    <tr>\n",
       "      <th>...</th>\n",
       "      <td>...</td>\n",
       "      <td>...</td>\n",
       "      <td>...</td>\n",
       "    </tr>\n",
       "    <tr>\n",
       "      <th>99995</th>\n",
       "      <td>CATGCCTCCTGTCCTGGGGGCAGGGAGGTGCTGCTGCCTGTATTTG...</td>\n",
       "      <td>SRR925811.99996</td>\n",
       "      <td>IIIIHIIIIIIIIHHIIIIGIHIIIIIIFIGI&lt;IIIIGIIHIIIIG...</td>\n",
       "    </tr>\n",
       "    <tr>\n",
       "      <th>99996</th>\n",
       "      <td>CCAGTCCCAGCGTCCCCATTTGGCCCAGGCTGCTTCTCACCTTTGA...</td>\n",
       "      <td>SRR925811.99997</td>\n",
       "      <td>HHHHHHHHHHHGHHHHHGHHHHHHHHHHHHHHHHHHHHGHHDHHHH...</td>\n",
       "    </tr>\n",
       "    <tr>\n",
       "      <th>99997</th>\n",
       "      <td>GGCAGGGAGGTGCTGCTGCCTGTATTTGAAAGGAAGGGCATTGCGC...</td>\n",
       "      <td>SRR925811.99998</td>\n",
       "      <td>GGGGGGGGGGGGGGGEDEEGGGGGGGGGEGGGGFGGFGGAFAEFFG...</td>\n",
       "    </tr>\n",
       "    <tr>\n",
       "      <th>99998</th>\n",
       "      <td>AGGTAGTGTCCCCCGAACCTGTAGGCCTCGAAGGTGAGGGACAGGG...</td>\n",
       "      <td>SRR925811.99999</td>\n",
       "      <td>GEFAGDGEDGGGGGG27@@==&lt;B&lt;BFGEDFDEGGD?&gt;DDDDBDGGE...</td>\n",
       "    </tr>\n",
       "    <tr>\n",
       "      <th>99999</th>\n",
       "      <td>GTGAGGGACAGGGGTGTGTTGGACTGGTCCAGGTAGATGTCCACTT...</td>\n",
       "      <td>SRR925811.100000</td>\n",
       "      <td>GGGGGGGGGGGGGFEGEGGGGGFGGGEFGEFGGCGGFEGDEGGGGG...</td>\n",
       "    </tr>\n",
       "  </tbody>\n",
       "</table>\n",
       "<p>100000 rows × 3 columns</p>\n",
       "</div>"
      ],
      "text/plain": [
       "                                                sequence              name  \\\n",
       "0      GTTAGGGTTAGGGTTGGGTTAGGGTTAGGGTTAGGGTTAGGGTTAG...       SRR925811.1   \n",
       "1      CCTAACCCTAACCCTAACCCTAACCCTAACCCTAACCCTAACCCTA...       SRR925811.2   \n",
       "2      TAGGGTTAGGGTTAGGGTTAGGGTTAGGGTTAGGGTTAGGGTTAGG...       SRR925811.3   \n",
       "3      TAGGGTTAGGGTTAGGGTTAGGGTTAGGGTTAGGGTTAGGGTTAGG...       SRR925811.4   \n",
       "4      CCTAACCCTAACCCCTAACCCCTAACCCTAACCCTAACCCTAACCC...       SRR925811.5   \n",
       "...                                                  ...               ...   \n",
       "99995  CATGCCTCCTGTCCTGGGGGCAGGGAGGTGCTGCTGCCTGTATTTG...   SRR925811.99996   \n",
       "99996  CCAGTCCCAGCGTCCCCATTTGGCCCAGGCTGCTTCTCACCTTTGA...   SRR925811.99997   \n",
       "99997  GGCAGGGAGGTGCTGCTGCCTGTATTTGAAAGGAAGGGCATTGCGC...   SRR925811.99998   \n",
       "99998  AGGTAGTGTCCCCCGAACCTGTAGGCCTCGAAGGTGAGGGACAGGG...   SRR925811.99999   \n",
       "99999  GTGAGGGACAGGGGTGTGTTGGACTGGTCCAGGTAGATGTCCACTT...  SRR925811.100000   \n",
       "\n",
       "                                                 quality  \n",
       "0      GGGGGGGGGGGGGEGGGGEGFFFFEFEFFFFGGGGFDFFFFFDFFE...  \n",
       "1      GGDG?GGGEGG@G:GGGGGE?GBBGGGGGDGGEG@GGEB<CAAA>A...  \n",
       "2      IIIIIIIIIIIIIIIIIIIGGGGGGEGGGFGGGGGIIGIHGFGGGI...  \n",
       "3      GGGGGGGBGGGGGGGGGGGDGGGGGDGGGDB@EDDGGEGGBDGDGG...  \n",
       "4      HHGHEHHHHHDHHGHHHHHHHHHHHHGHDHHHGHHDHHEHHHHHG@...  \n",
       "...                                                  ...  \n",
       "99995  IIIIHIIIIIIIIHHIIIIGIHIIIIIIFIGI<IIIIGIIHIIIIG...  \n",
       "99996  HHHHHHHHHHHGHHHHHGHHHHHHHHHHHHHHHHHHHHGHHDHHHH...  \n",
       "99997  GGGGGGGGGGGGGGGEDEEGGGGGGGGGEGGGGFGGFGGAFAEFFG...  \n",
       "99998  GEFAGDGEDGGGGGG27@@==<B<BFGEDFDEGGD?>DDDDBDGGE...  \n",
       "99999  GGGGGGGGGGGGGFEGEGGGGGFGGGEFGEFGGCGGFEGDEGGGGG...  \n",
       "\n",
       "[100000 rows x 3 columns]"
      ]
     },
     "execution_count": 40,
     "metadata": {},
     "output_type": "execute_result"
    }
   ],
   "source": [
    "%%time\n",
    "data  = pd.read_csv('example_100000_reads.tsv', sep = '\\t', header=None, names=['sequence', 'name', 'quality'])\n",
    "data"
   ]
  },
  {
   "cell_type": "code",
   "execution_count": 49,
   "metadata": {},
   "outputs": [
    {
     "name": "stdout",
     "output_type": "stream",
     "text": [
      "CPU times: user 1min 30s, sys: 354 ms, total: 1min 30s\n",
      "Wall time: 1min 29s\n"
     ]
    }
   ],
   "source": [
    "%%time\n",
    "data['kmers'] = data.sequence.apply(get_kmers_from_read, kmer_len= 30)"
   ]
  },
  {
   "cell_type": "code",
   "execution_count": null,
   "metadata": {},
   "outputs": [],
   "source": []
  },
  {
   "cell_type": "code",
   "execution_count": null,
   "metadata": {},
   "outputs": [],
   "source": [
    "from sklearn.feature_extraction.text import CountVectorizer\n",
    "vectorizer = CountVectorizer()"
   ]
  },
  {
   "cell_type": "code",
   "execution_count": null,
   "metadata": {},
   "outputs": [],
   "source": [
    "corpus = []"
   ]
  },
  {
   "cell_type": "code",
   "execution_count": null,
   "metadata": {},
   "outputs": [],
   "source": []
  },
  {
   "cell_type": "markdown",
   "metadata": {},
   "source": [
    "# opening file with pyspark"
   ]
  },
  {
   "cell_type": "code",
   "execution_count": 65,
   "metadata": {},
   "outputs": [],
   "source": [
    "from pyspark import SparkContext\n",
    "from pyspark import SparkConf"
   ]
  },
  {
   "cell_type": "code",
   "execution_count": null,
   "metadata": {},
   "outputs": [],
   "source": []
  },
  {
   "cell_type": "markdown",
   "metadata": {},
   "source": [
    "# umap of kmers"
   ]
  },
  {
   "cell_type": "code",
   "execution_count": 72,
   "metadata": {},
   "outputs": [],
   "source": [
    "import umap"
   ]
  },
  {
   "cell_type": "code",
   "execution_count": 73,
   "metadata": {},
   "outputs": [
    {
     "data": {
      "text/html": [
       "<div>\n",
       "<style scoped>\n",
       "    .dataframe tbody tr th:only-of-type {\n",
       "        vertical-align: middle;\n",
       "    }\n",
       "\n",
       "    .dataframe tbody tr th {\n",
       "        vertical-align: top;\n",
       "    }\n",
       "\n",
       "    .dataframe thead th {\n",
       "        text-align: right;\n",
       "    }\n",
       "</style>\n",
       "<table border=\"1\" class=\"dataframe\">\n",
       "  <thead>\n",
       "    <tr style=\"text-align: right;\">\n",
       "      <th></th>\n",
       "      <th>sequence</th>\n",
       "      <th>name</th>\n",
       "      <th>quality</th>\n",
       "      <th>kmers</th>\n",
       "    </tr>\n",
       "  </thead>\n",
       "  <tbody>\n",
       "    <tr>\n",
       "      <th>0</th>\n",
       "      <td>GTTAGGGTTAGGGTTGGGTTAGGGTTAGGGTTAGGGTTAGGGTTAG...</td>\n",
       "      <td>SRR925811.1</td>\n",
       "      <td>GGGGGGGGGGGGGEGGGGEGFFFFEFEFFFFGGGGFDFFFFFDFFE...</td>\n",
       "      <td>[IRI7V10CHCG0DC, NUUBLSCVK6LUD9, LUQQDNJ3Q7HU4...</td>\n",
       "    </tr>\n",
       "    <tr>\n",
       "      <th>1</th>\n",
       "      <td>CCTAACCCTAACCCTAACCCTAACCCTAACCCTAACCCTAACCCTA...</td>\n",
       "      <td>SRR925811.2</td>\n",
       "      <td>GGDG?GGGEGG@G:GGGGGE?GBBGGGGGDGGEG@GGEB&lt;CAAA&gt;A...</td>\n",
       "      <td>[BFMI7OQ9IC53B8, CCL29CLA2E3VQO, CIEBSTDTC1MV4...</td>\n",
       "    </tr>\n",
       "    <tr>\n",
       "      <th>2</th>\n",
       "      <td>TAGGGTTAGGGTTAGGGTTAGGGTTAGGGTTAGGGTTAGGGTTAGG...</td>\n",
       "      <td>SRR925811.3</td>\n",
       "      <td>IIIIIIIIIIIIIIIIIIIGGGGGGEGGGFGGGGGIIGIHGFGGGI...</td>\n",
       "      <td>[LUQQDNA6IM3EL2, 8R0HM7IF9PJHKA, A1FF7TQFGGAOC...</td>\n",
       "    </tr>\n",
       "    <tr>\n",
       "      <th>3</th>\n",
       "      <td>TAGGGTTAGGGTTAGGGTTAGGGTTAGGGTTAGGGTTAGGGTTAGG...</td>\n",
       "      <td>SRR925811.4</td>\n",
       "      <td>GGGGGGGBGGGGGGGGGGGDGGGGGDGGGDB@EDDGGEGGBDGDGG...</td>\n",
       "      <td>[LUQQDNA6IM3EL2, 8R0HM7IF9PJHKA, A1FF7TQFGGAOC...</td>\n",
       "    </tr>\n",
       "    <tr>\n",
       "      <th>4</th>\n",
       "      <td>CCTAACCCTAACCCCTAACCCCTAACCCTAACCCTAACCCTAACCC...</td>\n",
       "      <td>SRR925811.5</td>\n",
       "      <td>HHGHEHHHHHDHHGHHHHHHHHHHHHGHDHHHGHHDHHEHHHHHG@...</td>\n",
       "      <td>[9ISTARRECLPI71, 6UU1VM73OA6J78, BFMI7OU8T7AM6...</td>\n",
       "    </tr>\n",
       "    <tr>\n",
       "      <th>...</th>\n",
       "      <td>...</td>\n",
       "      <td>...</td>\n",
       "      <td>...</td>\n",
       "      <td>...</td>\n",
       "    </tr>\n",
       "    <tr>\n",
       "      <th>99995</th>\n",
       "      <td>CATGCCTCCTGTCCTGGGGGCAGGGAGGTGCTGCTGCCTGTATTTG...</td>\n",
       "      <td>SRR925811.99996</td>\n",
       "      <td>IIIIHIIIIIIIIHHIIIIGIHIIIIIIFIGI&lt;IIIIGIIHIIIIG...</td>\n",
       "      <td>[C1QAQHF4C54NIQ, 9PGSTGRD2V8Q3I, N0BKK8GA1TQJH...</td>\n",
       "    </tr>\n",
       "    <tr>\n",
       "      <th>99996</th>\n",
       "      <td>CCAGTCCCAGCGTCCCCATTTGGCCCAGGCTGCTTCTCACCTTTGA...</td>\n",
       "      <td>SRR925811.99997</td>\n",
       "      <td>HHHHHHHHHHHGHHHHHGHHHHHHHHHHHHHHHHHHHHGHHDHHHH...</td>\n",
       "      <td>[CF7PD5ODMIJMLD, BSK5QM9RN2JLGJ, 8VI3U911PIJFO...</td>\n",
       "    </tr>\n",
       "    <tr>\n",
       "      <th>99997</th>\n",
       "      <td>GGCAGGGAGGTGCTGCTGCCTGTATTTGAAAGGAAGGGCATTGCGC...</td>\n",
       "      <td>SRR925811.99998</td>\n",
       "      <td>GGGGGGGGGGGGGGGEDEEGGGGGGGGGEGGGGFGGFGGAFAEFFG...</td>\n",
       "      <td>[6RM0SNGIOA3K3V, 6DFS9LBB11F0D1, BRHTDCLRE0BS9...</td>\n",
       "    </tr>\n",
       "    <tr>\n",
       "      <th>99998</th>\n",
       "      <td>AGGTAGTGTCCCCCGAACCTGTAGGCCTCGAAGGTGAGGGACAGGG...</td>\n",
       "      <td>SRR925811.99999</td>\n",
       "      <td>GEFAGDGEDGGGGGG27@@==&lt;B&lt;BFGEDFDEGGD?&gt;DDDDBDGGE...</td>\n",
       "      <td>[8RGE6QF35TBNGK, 8L7SRHV0DADCHC, 6P089DR0UR459...</td>\n",
       "    </tr>\n",
       "    <tr>\n",
       "      <th>99999</th>\n",
       "      <td>GTGAGGGACAGGGGTGTGTTGGACTGGTCCAGGTAGATGTCCACTT...</td>\n",
       "      <td>SRR925811.100000</td>\n",
       "      <td>GGGGGGGGGGGGGFEGEGGGGGFGGGEFGEFGGCGGFEGDEGGGGG...</td>\n",
       "      <td>[D2F5M6TAUD59UT, 7L83L57FRRLNV7, GLN89IVVDA8PU...</td>\n",
       "    </tr>\n",
       "  </tbody>\n",
       "</table>\n",
       "<p>100000 rows × 4 columns</p>\n",
       "</div>"
      ],
      "text/plain": [
       "                                                sequence              name  \\\n",
       "0      GTTAGGGTTAGGGTTGGGTTAGGGTTAGGGTTAGGGTTAGGGTTAG...       SRR925811.1   \n",
       "1      CCTAACCCTAACCCTAACCCTAACCCTAACCCTAACCCTAACCCTA...       SRR925811.2   \n",
       "2      TAGGGTTAGGGTTAGGGTTAGGGTTAGGGTTAGGGTTAGGGTTAGG...       SRR925811.3   \n",
       "3      TAGGGTTAGGGTTAGGGTTAGGGTTAGGGTTAGGGTTAGGGTTAGG...       SRR925811.4   \n",
       "4      CCTAACCCTAACCCCTAACCCCTAACCCTAACCCTAACCCTAACCC...       SRR925811.5   \n",
       "...                                                  ...               ...   \n",
       "99995  CATGCCTCCTGTCCTGGGGGCAGGGAGGTGCTGCTGCCTGTATTTG...   SRR925811.99996   \n",
       "99996  CCAGTCCCAGCGTCCCCATTTGGCCCAGGCTGCTTCTCACCTTTGA...   SRR925811.99997   \n",
       "99997  GGCAGGGAGGTGCTGCTGCCTGTATTTGAAAGGAAGGGCATTGCGC...   SRR925811.99998   \n",
       "99998  AGGTAGTGTCCCCCGAACCTGTAGGCCTCGAAGGTGAGGGACAGGG...   SRR925811.99999   \n",
       "99999  GTGAGGGACAGGGGTGTGTTGGACTGGTCCAGGTAGATGTCCACTT...  SRR925811.100000   \n",
       "\n",
       "                                                 quality  \\\n",
       "0      GGGGGGGGGGGGGEGGGGEGFFFFEFEFFFFGGGGFDFFFFFDFFE...   \n",
       "1      GGDG?GGGEGG@G:GGGGGE?GBBGGGGGDGGEG@GGEB<CAAA>A...   \n",
       "2      IIIIIIIIIIIIIIIIIIIGGGGGGEGGGFGGGGGIIGIHGFGGGI...   \n",
       "3      GGGGGGGBGGGGGGGGGGGDGGGGGDGGGDB@EDDGGEGGBDGDGG...   \n",
       "4      HHGHEHHHHHDHHGHHHHHHHHHHHHGHDHHHGHHDHHEHHHHHG@...   \n",
       "...                                                  ...   \n",
       "99995  IIIIHIIIIIIIIHHIIIIGIHIIIIIIFIGI<IIIIGIIHIIIIG...   \n",
       "99996  HHHHHHHHHHHGHHHHHGHHHHHHHHHHHHHHHHHHHHGHHDHHHH...   \n",
       "99997  GGGGGGGGGGGGGGGEDEEGGGGGGGGGEGGGGFGGFGGAFAEFFG...   \n",
       "99998  GEFAGDGEDGGGGGG27@@==<B<BFGEDFDEGGD?>DDDDBDGGE...   \n",
       "99999  GGGGGGGGGGGGGFEGEGGGGGFGGGEFGEFGGCGGFEGDEGGGGG...   \n",
       "\n",
       "                                                   kmers  \n",
       "0      [IRI7V10CHCG0DC, NUUBLSCVK6LUD9, LUQQDNJ3Q7HU4...  \n",
       "1      [BFMI7OQ9IC53B8, CCL29CLA2E3VQO, CIEBSTDTC1MV4...  \n",
       "2      [LUQQDNA6IM3EL2, 8R0HM7IF9PJHKA, A1FF7TQFGGAOC...  \n",
       "3      [LUQQDNA6IM3EL2, 8R0HM7IF9PJHKA, A1FF7TQFGGAOC...  \n",
       "4      [9ISTARRECLPI71, 6UU1VM73OA6J78, BFMI7OU8T7AM6...  \n",
       "...                                                  ...  \n",
       "99995  [C1QAQHF4C54NIQ, 9PGSTGRD2V8Q3I, N0BKK8GA1TQJH...  \n",
       "99996  [CF7PD5ODMIJMLD, BSK5QM9RN2JLGJ, 8VI3U911PIJFO...  \n",
       "99997  [6RM0SNGIOA3K3V, 6DFS9LBB11F0D1, BRHTDCLRE0BS9...  \n",
       "99998  [8RGE6QF35TBNGK, 8L7SRHV0DADCHC, 6P089DR0UR459...  \n",
       "99999  [D2F5M6TAUD59UT, 7L83L57FRRLNV7, GLN89IVVDA8PU...  \n",
       "\n",
       "[100000 rows x 4 columns]"
      ]
     },
     "execution_count": 73,
     "metadata": {},
     "output_type": "execute_result"
    }
   ],
   "source": [
    "data"
   ]
  },
  {
   "cell_type": "code",
   "execution_count": 71,
   "metadata": {},
   "outputs": [
    {
     "ename": "KeyError",
     "evalue": "\"['quality'] not found in axis\"",
     "output_type": "error",
     "traceback": [
      "\u001b[0;31m---------------------------------------------------------------------------\u001b[0m",
      "\u001b[0;31mKeyError\u001b[0m                                  Traceback (most recent call last)",
      "\u001b[0;32m<ipython-input-71-4078856bf92b>\u001b[0m in \u001b[0;36m<module>\u001b[0;34m\u001b[0m\n\u001b[0;32m----> 1\u001b[0;31m \u001b[0mdata\u001b[0m\u001b[0;34m.\u001b[0m\u001b[0mdrop\u001b[0m\u001b[0;34m(\u001b[0m\u001b[0;34m[\u001b[0m\u001b[0;34m'quality'\u001b[0m\u001b[0;34m]\u001b[0m\u001b[0;34m)\u001b[0m\u001b[0;34m\u001b[0m\u001b[0;34m\u001b[0m\u001b[0m\n\u001b[0m",
      "\u001b[0;32m~/anaconda3/lib/python3.7/site-packages/pandas/core/frame.py\u001b[0m in \u001b[0;36mdrop\u001b[0;34m(self, labels, axis, index, columns, level, inplace, errors)\u001b[0m\n\u001b[1;32m   3995\u001b[0m             \u001b[0mlevel\u001b[0m\u001b[0;34m=\u001b[0m\u001b[0mlevel\u001b[0m\u001b[0;34m,\u001b[0m\u001b[0;34m\u001b[0m\u001b[0;34m\u001b[0m\u001b[0m\n\u001b[1;32m   3996\u001b[0m             \u001b[0minplace\u001b[0m\u001b[0;34m=\u001b[0m\u001b[0minplace\u001b[0m\u001b[0;34m,\u001b[0m\u001b[0;34m\u001b[0m\u001b[0;34m\u001b[0m\u001b[0m\n\u001b[0;32m-> 3997\u001b[0;31m             \u001b[0merrors\u001b[0m\u001b[0;34m=\u001b[0m\u001b[0merrors\u001b[0m\u001b[0;34m,\u001b[0m\u001b[0;34m\u001b[0m\u001b[0;34m\u001b[0m\u001b[0m\n\u001b[0m\u001b[1;32m   3998\u001b[0m         )\n\u001b[1;32m   3999\u001b[0m \u001b[0;34m\u001b[0m\u001b[0m\n",
      "\u001b[0;32m~/anaconda3/lib/python3.7/site-packages/pandas/core/generic.py\u001b[0m in \u001b[0;36mdrop\u001b[0;34m(self, labels, axis, index, columns, level, inplace, errors)\u001b[0m\n\u001b[1;32m   3934\u001b[0m         \u001b[0;32mfor\u001b[0m \u001b[0maxis\u001b[0m\u001b[0;34m,\u001b[0m \u001b[0mlabels\u001b[0m \u001b[0;32min\u001b[0m \u001b[0maxes\u001b[0m\u001b[0;34m.\u001b[0m\u001b[0mitems\u001b[0m\u001b[0;34m(\u001b[0m\u001b[0;34m)\u001b[0m\u001b[0;34m:\u001b[0m\u001b[0;34m\u001b[0m\u001b[0;34m\u001b[0m\u001b[0m\n\u001b[1;32m   3935\u001b[0m             \u001b[0;32mif\u001b[0m \u001b[0mlabels\u001b[0m \u001b[0;32mis\u001b[0m \u001b[0;32mnot\u001b[0m \u001b[0;32mNone\u001b[0m\u001b[0;34m:\u001b[0m\u001b[0;34m\u001b[0m\u001b[0;34m\u001b[0m\u001b[0m\n\u001b[0;32m-> 3936\u001b[0;31m                 \u001b[0mobj\u001b[0m \u001b[0;34m=\u001b[0m \u001b[0mobj\u001b[0m\u001b[0;34m.\u001b[0m\u001b[0m_drop_axis\u001b[0m\u001b[0;34m(\u001b[0m\u001b[0mlabels\u001b[0m\u001b[0;34m,\u001b[0m \u001b[0maxis\u001b[0m\u001b[0;34m,\u001b[0m \u001b[0mlevel\u001b[0m\u001b[0;34m=\u001b[0m\u001b[0mlevel\u001b[0m\u001b[0;34m,\u001b[0m \u001b[0merrors\u001b[0m\u001b[0;34m=\u001b[0m\u001b[0merrors\u001b[0m\u001b[0;34m)\u001b[0m\u001b[0;34m\u001b[0m\u001b[0;34m\u001b[0m\u001b[0m\n\u001b[0m\u001b[1;32m   3937\u001b[0m \u001b[0;34m\u001b[0m\u001b[0m\n\u001b[1;32m   3938\u001b[0m         \u001b[0;32mif\u001b[0m \u001b[0minplace\u001b[0m\u001b[0;34m:\u001b[0m\u001b[0;34m\u001b[0m\u001b[0;34m\u001b[0m\u001b[0m\n",
      "\u001b[0;32m~/anaconda3/lib/python3.7/site-packages/pandas/core/generic.py\u001b[0m in \u001b[0;36m_drop_axis\u001b[0;34m(self, labels, axis, level, errors)\u001b[0m\n\u001b[1;32m   3968\u001b[0m                 \u001b[0mnew_axis\u001b[0m \u001b[0;34m=\u001b[0m \u001b[0maxis\u001b[0m\u001b[0;34m.\u001b[0m\u001b[0mdrop\u001b[0m\u001b[0;34m(\u001b[0m\u001b[0mlabels\u001b[0m\u001b[0;34m,\u001b[0m \u001b[0mlevel\u001b[0m\u001b[0;34m=\u001b[0m\u001b[0mlevel\u001b[0m\u001b[0;34m,\u001b[0m \u001b[0merrors\u001b[0m\u001b[0;34m=\u001b[0m\u001b[0merrors\u001b[0m\u001b[0;34m)\u001b[0m\u001b[0;34m\u001b[0m\u001b[0;34m\u001b[0m\u001b[0m\n\u001b[1;32m   3969\u001b[0m             \u001b[0;32melse\u001b[0m\u001b[0;34m:\u001b[0m\u001b[0;34m\u001b[0m\u001b[0;34m\u001b[0m\u001b[0m\n\u001b[0;32m-> 3970\u001b[0;31m                 \u001b[0mnew_axis\u001b[0m \u001b[0;34m=\u001b[0m \u001b[0maxis\u001b[0m\u001b[0;34m.\u001b[0m\u001b[0mdrop\u001b[0m\u001b[0;34m(\u001b[0m\u001b[0mlabels\u001b[0m\u001b[0;34m,\u001b[0m \u001b[0merrors\u001b[0m\u001b[0;34m=\u001b[0m\u001b[0merrors\u001b[0m\u001b[0;34m)\u001b[0m\u001b[0;34m\u001b[0m\u001b[0;34m\u001b[0m\u001b[0m\n\u001b[0m\u001b[1;32m   3971\u001b[0m             \u001b[0mresult\u001b[0m \u001b[0;34m=\u001b[0m \u001b[0mself\u001b[0m\u001b[0;34m.\u001b[0m\u001b[0mreindex\u001b[0m\u001b[0;34m(\u001b[0m\u001b[0;34m**\u001b[0m\u001b[0;34m{\u001b[0m\u001b[0maxis_name\u001b[0m\u001b[0;34m:\u001b[0m \u001b[0mnew_axis\u001b[0m\u001b[0;34m}\u001b[0m\u001b[0;34m)\u001b[0m\u001b[0;34m\u001b[0m\u001b[0;34m\u001b[0m\u001b[0m\n\u001b[1;32m   3972\u001b[0m \u001b[0;34m\u001b[0m\u001b[0m\n",
      "\u001b[0;32m~/anaconda3/lib/python3.7/site-packages/pandas/core/indexes/base.py\u001b[0m in \u001b[0;36mdrop\u001b[0;34m(self, labels, errors)\u001b[0m\n\u001b[1;32m   5015\u001b[0m         \u001b[0;32mif\u001b[0m \u001b[0mmask\u001b[0m\u001b[0;34m.\u001b[0m\u001b[0many\u001b[0m\u001b[0;34m(\u001b[0m\u001b[0;34m)\u001b[0m\u001b[0;34m:\u001b[0m\u001b[0;34m\u001b[0m\u001b[0;34m\u001b[0m\u001b[0m\n\u001b[1;32m   5016\u001b[0m             \u001b[0;32mif\u001b[0m \u001b[0merrors\u001b[0m \u001b[0;34m!=\u001b[0m \u001b[0;34m\"ignore\"\u001b[0m\u001b[0;34m:\u001b[0m\u001b[0;34m\u001b[0m\u001b[0;34m\u001b[0m\u001b[0m\n\u001b[0;32m-> 5017\u001b[0;31m                 \u001b[0;32mraise\u001b[0m \u001b[0mKeyError\u001b[0m\u001b[0;34m(\u001b[0m\u001b[0;34mf\"{labels[mask]} not found in axis\"\u001b[0m\u001b[0;34m)\u001b[0m\u001b[0;34m\u001b[0m\u001b[0;34m\u001b[0m\u001b[0m\n\u001b[0m\u001b[1;32m   5018\u001b[0m             \u001b[0mindexer\u001b[0m \u001b[0;34m=\u001b[0m \u001b[0mindexer\u001b[0m\u001b[0;34m[\u001b[0m\u001b[0;34m~\u001b[0m\u001b[0mmask\u001b[0m\u001b[0;34m]\u001b[0m\u001b[0;34m\u001b[0m\u001b[0;34m\u001b[0m\u001b[0m\n\u001b[1;32m   5019\u001b[0m         \u001b[0;32mreturn\u001b[0m \u001b[0mself\u001b[0m\u001b[0;34m.\u001b[0m\u001b[0mdelete\u001b[0m\u001b[0;34m(\u001b[0m\u001b[0mindexer\u001b[0m\u001b[0;34m)\u001b[0m\u001b[0;34m\u001b[0m\u001b[0;34m\u001b[0m\u001b[0m\n",
      "\u001b[0;31mKeyError\u001b[0m: \"['quality'] not found in axis\""
     ]
    }
   ],
   "source": [
    "data.drop(['quality'])"
   ]
  },
  {
   "cell_type": "code",
   "execution_count": 79,
   "metadata": {},
   "outputs": [
    {
     "data": {
      "text/plain": [
       "'CGTCGTCATTCTATTACATATAAAAATGCCACACCATTCTAAGGGTGGACTGTCAGTTTCCAGACTAAACCGGCCTTCCCTTCTACACCTATACTGCTGTATGATTGGCTCTTATTCTTCAGATATCTTGATTCGCATTAAATATAACAC'"
      ]
     },
     "execution_count": 79,
     "metadata": {},
     "output_type": "execute_result"
    }
   ],
   "source": [
    "import sys\n",
    "read"
   ]
  },
  {
   "cell_type": "code",
   "execution_count": 86,
   "metadata": {},
   "outputs": [
    {
     "name": "stdout",
     "output_type": "stream",
     "text": [
      "2916\n",
      "1240\n"
     ]
    },
    {
     "name": "stderr",
     "output_type": "stream",
     "text": [
      "/home/thiagoms/anaconda3/lib/python3.7/site-packages/ipykernel_launcher.py:3: FutureWarning: elementwise comparison failed; returning scalar instead, but in the future will perform elementwise comparison\n",
      "  This is separate from the ipykernel package so we can avoid doing imports until\n"
     ]
    }
   ],
   "source": [
    "print(sys.getsizeof(get_kmers_from_read(read,10)))\n",
    "print(sys.getsizeof(get_kmers_from_read_int(read,10)))\n"
   ]
  },
  {
   "cell_type": "code",
   "execution_count": 80,
   "metadata": {},
   "outputs": [
    {
     "ename": "TypeError",
     "evalue": "get_kmers_from_read() missing 1 required positional argument: 'kmer_len'",
     "output_type": "error",
     "traceback": [
      "\u001b[0;31m---------------------------------------------------------------------------\u001b[0m",
      "\u001b[0;31mTypeError\u001b[0m                                 Traceback (most recent call last)",
      "\u001b[0;32m<ipython-input-80-325e8a6836b5>\u001b[0m in \u001b[0;36m<module>\u001b[0;34m\u001b[0m\n\u001b[0;32m----> 1\u001b[0;31m \u001b[0mget_kmers_from_read\u001b[0m\u001b[0;34m(\u001b[0m\u001b[0mread\u001b[0m\u001b[0;34m)\u001b[0m\u001b[0;34m\u001b[0m\u001b[0;34m\u001b[0m\u001b[0m\n\u001b[0m",
      "\u001b[0;31mTypeError\u001b[0m: get_kmers_from_read() missing 1 required positional argument: 'kmer_len'"
     ]
    }
   ],
   "source": [
    "get_kmers_from_read(read)"
   ]
  },
  {
   "cell_type": "code",
   "execution_count": null,
   "metadata": {},
   "outputs": [],
   "source": [
    "import sys"
   ]
  },
  {
   "cell_type": "code",
   "execution_count": null,
   "metadata": {},
   "outputs": [],
   "source": [
    "read"
   ]
  },
  {
   "cell_type": "code",
   "execution_count": null,
   "metadata": {},
   "outputs": [],
   "source": [
    "val = np.base_repr(int(nuc_to_num(read), 5), base=32)"
   ]
  },
  {
   "cell_type": "code",
   "execution_count": null,
   "metadata": {},
   "outputs": [],
   "source": [
    "np.base_repr(int(val, 32), base=5) == nuc_to_num(read)"
   ]
  },
  {
   "cell_type": "code",
   "execution_count": null,
   "metadata": {},
   "outputs": [],
   "source": [
    "np.base_repr(int(nuc_to_num(read), 5), base=5) == nuc_to_num(read)"
   ]
  },
  {
   "cell_type": "code",
   "execution_count": null,
   "metadata": {},
   "outputs": [],
   "source": []
  },
  {
   "cell_type": "code",
   "execution_count": 51,
   "metadata": {},
   "outputs": [
    {
     "data": {
      "text/plain": [
       "'5E28CN1VKGF04TL289AVRT4MGS3C1L8MV28J3N4C5322RPQJGAO1JGH6789R31PMG8O2T8'"
      ]
     },
     "execution_count": 51,
     "metadata": {},
     "output_type": "execute_result"
    }
   ],
   "source": [
    "np.base_repr(int(nuc_to_num(read), 5), base=32)"
   ]
  },
  {
   "cell_type": "code",
   "execution_count": 64,
   "metadata": {},
   "outputs": [
    {
     "data": {
      "text/plain": [
       "'CGTCGTCATTCTATTACATATAAAAATGCCACACCATTCTAAGGGTGGACTGTCAGTTTCCAGACTAAACCGGCCTTCCCTTCTACACCTATACTGCTGTATGATTGGCTCTTATTCTTCAGATATCTTGATTCGCATTAAATATAACAC'"
      ]
     },
     "execution_count": 64,
     "metadata": {},
     "output_type": "execute_result"
    }
   ],
   "source": [
    "read"
   ]
  },
  {
   "cell_type": "code",
   "execution_count": null,
   "metadata": {},
   "outputs": [],
   "source": [
    "np.base_repr(int(val, 32), base=5)"
   ]
  },
  {
   "cell_type": "code",
   "execution_count": null,
   "metadata": {},
   "outputs": [],
   "source": [
    "nuc_to_base32('ATCGIDS')"
   ]
  },
  {
   "cell_type": "code",
   "execution_count": 61,
   "metadata": {},
   "outputs": [
    {
     "data": {
      "text/plain": [
       "389873936670596444978611186223617578095584948919298065164920100653033808696041843851408934440261194091432"
      ]
     },
     "execution_count": 61,
     "metadata": {},
     "output_type": "execute_result"
    }
   ],
   "source": [
    "int('5E28CN1VKGF04TL289AVRT4MGS3C1L8MV28J3N4C5322RPQJGAO1JGH6789R31PMG8O2T8', 32)"
   ]
  },
  {
   "cell_type": "code",
   "execution_count": 62,
   "metadata": {},
   "outputs": [
    {
     "data": {
      "text/plain": [
       "'28CN1VKGF04TL289AVRT4MGS3C1L8MV28J3N4C5322RPQJGAO1JGH6789R31PMG8O2T8'"
      ]
     },
     "execution_count": 62,
     "metadata": {},
     "output_type": "execute_result"
    }
   ],
   "source": [
    "'E28CN1VKGF04TL289AVRT4MGS3C1L8MV28J3N4C5322RPQJGAO1JGH6789R31PMG8O2T87'[1:-1]"
   ]
  },
  {
   "cell_type": "code",
   "execution_count": null,
   "metadata": {},
   "outputs": [],
   "source": [
    "int('5E28CN1VKGF04TL289AVRT4MGS3C1L8MV28J3N4C5322RPQJGAO1JGH6789R31PMG8O2T8', 32)//10"
   ]
  },
  {
   "cell_type": "code",
   "execution_count": null,
   "metadata": {},
   "outputs": [],
   "source": [
    "if st_1[1:30] == "
   ]
  }
 ],
 "metadata": {
  "kernelspec": {
   "display_name": "Python 3",
   "language": "python",
   "name": "python3"
  },
  "language_info": {
   "codemirror_mode": {
    "name": "ipython",
    "version": 3
   },
   "file_extension": ".py",
   "mimetype": "text/x-python",
   "name": "python",
   "nbconvert_exporter": "python",
   "pygments_lexer": "ipython3",
   "version": "3.7.6"
  }
 },
 "nbformat": 4,
 "nbformat_minor": 4
}
